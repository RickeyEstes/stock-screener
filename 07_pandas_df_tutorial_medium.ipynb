{
  "cells": [
    {
      "cell_type": "code",
      "execution_count": 74,
      "metadata": {
        "id": "lyqRHWlhcl9V"
      },
      "outputs": [],
      "source": [
        "import pandas as pd"
      ]
    },
    {
      "cell_type": "markdown",
      "metadata": {},
      "source": [
        "## 1. Creating a Pandas DataFrame"
      ]
    },
    {
      "cell_type": "markdown",
      "metadata": {},
      "source": [
        "### DF without index label"
      ]
    },
    {
      "cell_type": "code",
      "execution_count": 75,
      "metadata": {},
      "outputs": [
        {
          "data": {
            "text/html": [
              "<div>\n",
              "<style scoped>\n",
              "    .dataframe tbody tr th:only-of-type {\n",
              "        vertical-align: middle;\n",
              "    }\n",
              "\n",
              "    .dataframe tbody tr th {\n",
              "        vertical-align: top;\n",
              "    }\n",
              "\n",
              "    .dataframe thead th {\n",
              "        text-align: right;\n",
              "    }\n",
              "</style>\n",
              "<table border=\"1\" class=\"dataframe\">\n",
              "  <thead>\n",
              "    <tr style=\"text-align: right;\">\n",
              "      <th></th>\n",
              "      <th>Open</th>\n",
              "      <th>High</th>\n",
              "      <th>Low</th>\n",
              "      <th>Close</th>\n",
              "    </tr>\n",
              "  </thead>\n",
              "  <tbody>\n",
              "    <tr>\n",
              "      <th>0</th>\n",
              "      <td>100</td>\n",
              "      <td>101</td>\n",
              "      <td>99</td>\n",
              "      <td>100</td>\n",
              "    </tr>\n",
              "    <tr>\n",
              "      <th>1</th>\n",
              "      <td>101</td>\n",
              "      <td>102</td>\n",
              "      <td>100</td>\n",
              "      <td>101</td>\n",
              "    </tr>\n",
              "    <tr>\n",
              "      <th>2</th>\n",
              "      <td>102</td>\n",
              "      <td>103</td>\n",
              "      <td>101</td>\n",
              "      <td>102</td>\n",
              "    </tr>\n",
              "  </tbody>\n",
              "</table>\n",
              "</div>"
            ],
            "text/plain": [
              "   Open  High  Low  Close\n",
              "0   100   101   99    100\n",
              "1   101   102  100    101\n",
              "2   102   103  101    102"
            ]
          },
          "execution_count": 75,
          "metadata": {},
          "output_type": "execute_result"
        }
      ],
      "source": [
        "data={\n",
        "  'Open': [100, 101, 102],\n",
        "  'High': [101, 102, 103],\n",
        "  'Low': [99, 100, 101],\n",
        "  'Close': [100, 101, 102],\n",
        "  }\n",
        "df = pd.DataFrame(data)\n",
        "df"
      ]
    },
    {
      "cell_type": "markdown",
      "metadata": {},
      "source": [
        "\n",
        "### DF with index label"
      ]
    },
    {
      "cell_type": "code",
      "execution_count": 76,
      "metadata": {},
      "outputs": [
        {
          "data": {
            "text/html": [
              "<div>\n",
              "<style scoped>\n",
              "    .dataframe tbody tr th:only-of-type {\n",
              "        vertical-align: middle;\n",
              "    }\n",
              "\n",
              "    .dataframe tbody tr th {\n",
              "        vertical-align: top;\n",
              "    }\n",
              "\n",
              "    .dataframe thead th {\n",
              "        text-align: right;\n",
              "    }\n",
              "</style>\n",
              "<table border=\"1\" class=\"dataframe\">\n",
              "  <thead>\n",
              "    <tr style=\"text-align: right;\">\n",
              "      <th></th>\n",
              "      <th>Open</th>\n",
              "      <th>High</th>\n",
              "      <th>Low</th>\n",
              "      <th>Close</th>\n",
              "    </tr>\n",
              "  </thead>\n",
              "  <tbody>\n",
              "    <tr>\n",
              "      <th>2021-12-01</th>\n",
              "      <td>100</td>\n",
              "      <td>101</td>\n",
              "      <td>99</td>\n",
              "      <td>100</td>\n",
              "    </tr>\n",
              "    <tr>\n",
              "      <th>2021-12-02</th>\n",
              "      <td>101</td>\n",
              "      <td>102</td>\n",
              "      <td>100</td>\n",
              "      <td>101</td>\n",
              "    </tr>\n",
              "    <tr>\n",
              "      <th>2021-12-03</th>\n",
              "      <td>102</td>\n",
              "      <td>103</td>\n",
              "      <td>101</td>\n",
              "      <td>102</td>\n",
              "    </tr>\n",
              "  </tbody>\n",
              "</table>\n",
              "</div>"
            ],
            "text/plain": [
              "            Open  High  Low  Close\n",
              "2021-12-01   100   101   99    100\n",
              "2021-12-02   101   102  100    101\n",
              "2021-12-03   102   103  101    102"
            ]
          },
          "execution_count": 76,
          "metadata": {},
          "output_type": "execute_result"
        }
      ],
      "source": [
        "data={\n",
        "  'Open': [100, 101, 102],\n",
        "  'High': [101, 102, 103],\n",
        "  'Low': [99, 100, 101],\n",
        "  'Close': [100, 101, 102],\n",
        "  }\n",
        "index_label = ['2021-12-01', '2021-12-02', '2021-12-03']\n",
        "df = pd.DataFrame(data, index=index_label)\n",
        "df"
      ]
    },
    {
      "cell_type": "markdown",
      "metadata": {},
      "source": [
        "### The Data"
      ]
    },
    {
      "cell_type": "code",
      "execution_count": 77,
      "metadata": {
        "colab": {
          "base_uri": "https://localhost:8080/"
        },
        "id": "7krzWUSksE0W",
        "outputId": "a3e15aaf-ddfc-47c4-bb83-775a985b6252"
      },
      "outputs": [
        {
          "name": "stdout",
          "output_type": "stream",
          "text": [
            "[*********************100%***********************]  1 of 1 completed\n"
          ]
        }
      ],
      "source": [
        "# !pip install yfinance\n",
        "import yfinance as yf\n",
        "df = yf.download('AAPL', start='2019-01-01', end='2021-01-01')"
      ]
    },
    {
      "cell_type": "markdown",
      "metadata": {},
      "source": [
        "## 2. Viewing data"
      ]
    },
    {
      "cell_type": "markdown",
      "metadata": {},
      "source": [
        "### How to view only the first and last n rows of data?"
      ]
    },
    {
      "cell_type": "code",
      "execution_count": 78,
      "metadata": {
        "colab": {
          "base_uri": "https://localhost:8080/",
          "height": 175
        },
        "id": "HCxOMmLGt6tZ",
        "outputId": "a6b5935a-9548-4135-f51a-a4ba3bd1407a"
      },
      "outputs": [
        {
          "data": {
            "text/html": [
              "<div>\n",
              "<style scoped>\n",
              "    .dataframe tbody tr th:only-of-type {\n",
              "        vertical-align: middle;\n",
              "    }\n",
              "\n",
              "    .dataframe tbody tr th {\n",
              "        vertical-align: top;\n",
              "    }\n",
              "\n",
              "    .dataframe thead th {\n",
              "        text-align: right;\n",
              "    }\n",
              "</style>\n",
              "<table border=\"1\" class=\"dataframe\">\n",
              "  <thead>\n",
              "    <tr style=\"text-align: right;\">\n",
              "      <th></th>\n",
              "      <th>Open</th>\n",
              "      <th>High</th>\n",
              "      <th>Low</th>\n",
              "      <th>Close</th>\n",
              "      <th>Adj Close</th>\n",
              "      <th>Volume</th>\n",
              "    </tr>\n",
              "    <tr>\n",
              "      <th>Date</th>\n",
              "      <th></th>\n",
              "      <th></th>\n",
              "      <th></th>\n",
              "      <th></th>\n",
              "      <th></th>\n",
              "      <th></th>\n",
              "    </tr>\n",
              "  </thead>\n",
              "  <tbody>\n",
              "    <tr>\n",
              "      <th>2020-12-29</th>\n",
              "      <td>138.050003</td>\n",
              "      <td>138.789993</td>\n",
              "      <td>134.339996</td>\n",
              "      <td>134.869995</td>\n",
              "      <td>134.043640</td>\n",
              "      <td>121047300</td>\n",
              "    </tr>\n",
              "    <tr>\n",
              "      <th>2020-12-30</th>\n",
              "      <td>135.580002</td>\n",
              "      <td>135.990005</td>\n",
              "      <td>133.399994</td>\n",
              "      <td>133.720001</td>\n",
              "      <td>132.900696</td>\n",
              "      <td>96452100</td>\n",
              "    </tr>\n",
              "    <tr>\n",
              "      <th>2020-12-31</th>\n",
              "      <td>134.080002</td>\n",
              "      <td>134.740005</td>\n",
              "      <td>131.720001</td>\n",
              "      <td>132.690002</td>\n",
              "      <td>131.877014</td>\n",
              "      <td>99116600</td>\n",
              "    </tr>\n",
              "  </tbody>\n",
              "</table>\n",
              "</div>"
            ],
            "text/plain": [
              "                  Open        High         Low       Close   Adj Close  \\\n",
              "Date                                                                     \n",
              "2020-12-29  138.050003  138.789993  134.339996  134.869995  134.043640   \n",
              "2020-12-30  135.580002  135.990005  133.399994  133.720001  132.900696   \n",
              "2020-12-31  134.080002  134.740005  131.720001  132.690002  131.877014   \n",
              "\n",
              "               Volume  \n",
              "Date                   \n",
              "2020-12-29  121047300  \n",
              "2020-12-30   96452100  \n",
              "2020-12-31   99116600  "
            ]
          },
          "execution_count": 78,
          "metadata": {},
          "output_type": "execute_result"
        }
      ],
      "source": [
        "df.tail(3)"
      ]
    },
    {
      "cell_type": "code",
      "execution_count": 79,
      "metadata": {
        "colab": {
          "base_uri": "https://localhost:8080/",
          "height": 175
        },
        "id": "V21-J2m7t9i4",
        "outputId": "fc01f23c-1ddc-4341-d5b3-9c70d452147c"
      },
      "outputs": [
        {
          "data": {
            "text/html": [
              "<div>\n",
              "<style scoped>\n",
              "    .dataframe tbody tr th:only-of-type {\n",
              "        vertical-align: middle;\n",
              "    }\n",
              "\n",
              "    .dataframe tbody tr th {\n",
              "        vertical-align: top;\n",
              "    }\n",
              "\n",
              "    .dataframe thead th {\n",
              "        text-align: right;\n",
              "    }\n",
              "</style>\n",
              "<table border=\"1\" class=\"dataframe\">\n",
              "  <thead>\n",
              "    <tr style=\"text-align: right;\">\n",
              "      <th></th>\n",
              "      <th>Open</th>\n",
              "      <th>High</th>\n",
              "      <th>Low</th>\n",
              "      <th>Close</th>\n",
              "      <th>Adj Close</th>\n",
              "      <th>Volume</th>\n",
              "    </tr>\n",
              "    <tr>\n",
              "      <th>Date</th>\n",
              "      <th></th>\n",
              "      <th></th>\n",
              "      <th></th>\n",
              "      <th></th>\n",
              "      <th></th>\n",
              "      <th></th>\n",
              "    </tr>\n",
              "  </thead>\n",
              "  <tbody>\n",
              "    <tr>\n",
              "      <th>2018-12-31</th>\n",
              "      <td>39.632500</td>\n",
              "      <td>39.840000</td>\n",
              "      <td>39.119999</td>\n",
              "      <td>39.435001</td>\n",
              "      <td>38.282608</td>\n",
              "      <td>140014000</td>\n",
              "    </tr>\n",
              "    <tr>\n",
              "      <th>2019-01-02</th>\n",
              "      <td>38.722500</td>\n",
              "      <td>39.712502</td>\n",
              "      <td>38.557499</td>\n",
              "      <td>39.480000</td>\n",
              "      <td>38.326290</td>\n",
              "      <td>148158800</td>\n",
              "    </tr>\n",
              "    <tr>\n",
              "      <th>2019-01-03</th>\n",
              "      <td>35.994999</td>\n",
              "      <td>36.430000</td>\n",
              "      <td>35.500000</td>\n",
              "      <td>35.547501</td>\n",
              "      <td>34.508709</td>\n",
              "      <td>365248800</td>\n",
              "    </tr>\n",
              "  </tbody>\n",
              "</table>\n",
              "</div>"
            ],
            "text/plain": [
              "                 Open       High        Low      Close  Adj Close     Volume\n",
              "Date                                                                        \n",
              "2018-12-31  39.632500  39.840000  39.119999  39.435001  38.282608  140014000\n",
              "2019-01-02  38.722500  39.712502  38.557499  39.480000  38.326290  148158800\n",
              "2019-01-03  35.994999  36.430000  35.500000  35.547501  34.508709  365248800"
            ]
          },
          "execution_count": 79,
          "metadata": {},
          "output_type": "execute_result"
        }
      ],
      "source": [
        "df.head(3)"
      ]
    },
    {
      "cell_type": "markdown",
      "metadata": {},
      "source": [
        "### How to display all rows?"
      ]
    },
    {
      "cell_type": "code",
      "execution_count": null,
      "metadata": {
        "id": "YAbPrvzkulws"
      },
      "outputs": [],
      "source": [
        "pd.set_option('display.max_rows', None)\n",
        "df"
      ]
    },
    {
      "cell_type": "markdown",
      "metadata": {},
      "source": [
        "## 3. Data selection"
      ]
    },
    {
      "cell_type": "markdown",
      "metadata": {},
      "source": [
        "### How to select a specific row?"
      ]
    },
    {
      "cell_type": "code",
      "execution_count": 6,
      "metadata": {
        "colab": {
          "base_uri": "https://localhost:8080/"
        },
        "id": "ayPCTdhGTU5g",
        "outputId": "a993a7ca-d83a-4c94-d470-10cba53580f1"
      },
      "outputs": [
        {
          "data": {
            "text/plain": [
              "Open         1.548900e+02\n",
              "High         1.588500e+02\n",
              "Low          1.542300e+02\n",
              "Close        1.579200e+02\n",
              "Adj Close    1.553062e+02\n",
              "Volume       3.703974e+07\n",
              "Name: 2019-01-02 00:00:00, dtype: float64"
            ]
          },
          "execution_count": 6,
          "metadata": {},
          "output_type": "execute_result"
        }
      ],
      "source": [
        "df.loc['2019-01-02']"
      ]
    },
    {
      "cell_type": "code",
      "execution_count": 22,
      "metadata": {
        "colab": {
          "base_uri": "https://localhost:8080/"
        },
        "id": "VJ10_tFXvH2v",
        "outputId": "647d359e-39cd-4fef-908c-821b268582c8"
      },
      "outputs": [
        {
          "data": {
            "text/plain": [
              "Open         1.548900e+02\n",
              "High         1.588500e+02\n",
              "Low          1.542300e+02\n",
              "Close        1.579200e+02\n",
              "Adj Close    1.553063e+02\n",
              "Volume       3.703974e+07\n",
              "Name: 2019-01-02 00:00:00, dtype: float64"
            ]
          },
          "execution_count": 22,
          "metadata": {},
          "output_type": "execute_result"
        }
      ],
      "source": [
        "df.iloc[0]"
      ]
    },
    {
      "cell_type": "markdown",
      "metadata": {},
      "source": [
        "### How to select multiple rows?"
      ]
    },
    {
      "cell_type": "code",
      "execution_count": 25,
      "metadata": {
        "colab": {
          "base_uri": "https://localhost:8080/",
          "height": 175
        },
        "id": "1pYhdttPwemw",
        "outputId": "cf260806-a08c-4c7c-e97f-6bb4bb638e3d"
      },
      "outputs": [
        {
          "data": {
            "text/html": [
              "<div>\n",
              "<style scoped>\n",
              "    .dataframe tbody tr th:only-of-type {\n",
              "        vertical-align: middle;\n",
              "    }\n",
              "\n",
              "    .dataframe tbody tr th {\n",
              "        vertical-align: top;\n",
              "    }\n",
              "\n",
              "    .dataframe thead th {\n",
              "        text-align: right;\n",
              "    }\n",
              "</style>\n",
              "<table border=\"1\" class=\"dataframe\">\n",
              "  <thead>\n",
              "    <tr style=\"text-align: right;\">\n",
              "      <th></th>\n",
              "      <th>Open</th>\n",
              "      <th>High</th>\n",
              "      <th>Low</th>\n",
              "      <th>Close</th>\n",
              "      <th>Adj Close</th>\n",
              "      <th>Volume</th>\n",
              "    </tr>\n",
              "    <tr>\n",
              "      <th>Date</th>\n",
              "      <th></th>\n",
              "      <th></th>\n",
              "      <th></th>\n",
              "      <th></th>\n",
              "      <th></th>\n",
              "      <th></th>\n",
              "    </tr>\n",
              "  </thead>\n",
              "  <tbody>\n",
              "    <tr>\n",
              "      <th>2019-01-02</th>\n",
              "      <td>154.889999</td>\n",
              "      <td>158.850006</td>\n",
              "      <td>154.229996</td>\n",
              "      <td>157.919998</td>\n",
              "      <td>155.306274</td>\n",
              "      <td>37039737</td>\n",
              "    </tr>\n",
              "    <tr>\n",
              "      <th>2019-01-03</th>\n",
              "      <td>143.979996</td>\n",
              "      <td>145.720001</td>\n",
              "      <td>142.000000</td>\n",
              "      <td>142.190002</td>\n",
              "      <td>139.836624</td>\n",
              "      <td>91312195</td>\n",
              "    </tr>\n",
              "    <tr>\n",
              "      <th>2019-01-04</th>\n",
              "      <td>144.529999</td>\n",
              "      <td>148.549896</td>\n",
              "      <td>143.800003</td>\n",
              "      <td>148.259995</td>\n",
              "      <td>145.806137</td>\n",
              "      <td>58607070</td>\n",
              "    </tr>\n",
              "  </tbody>\n",
              "</table>\n",
              "</div>"
            ],
            "text/plain": [
              "                  Open        High  ...   Adj Close    Volume\n",
              "Date                                ...                      \n",
              "2019-01-02  154.889999  158.850006  ...  155.306274  37039737\n",
              "2019-01-03  143.979996  145.720001  ...  139.836624  91312195\n",
              "2019-01-04  144.529999  148.549896  ...  145.806137  58607070\n",
              "\n",
              "[3 rows x 6 columns]"
            ]
          },
          "execution_count": 25,
          "metadata": {},
          "output_type": "execute_result"
        }
      ],
      "source": [
        "df.loc['2019-01-02':'2019-01-04']"
      ]
    },
    {
      "cell_type": "code",
      "execution_count": 28,
      "metadata": {
        "colab": {
          "base_uri": "https://localhost:8080/",
          "height": 175
        },
        "id": "cA8XiclpXr8g",
        "outputId": "39f49019-fb33-41e0-fe54-4cb7c9bce5c9"
      },
      "outputs": [
        {
          "data": {
            "text/html": [
              "<div>\n",
              "<style scoped>\n",
              "    .dataframe tbody tr th:only-of-type {\n",
              "        vertical-align: middle;\n",
              "    }\n",
              "\n",
              "    .dataframe tbody tr th {\n",
              "        vertical-align: top;\n",
              "    }\n",
              "\n",
              "    .dataframe thead th {\n",
              "        text-align: right;\n",
              "    }\n",
              "</style>\n",
              "<table border=\"1\" class=\"dataframe\">\n",
              "  <thead>\n",
              "    <tr style=\"text-align: right;\">\n",
              "      <th></th>\n",
              "      <th>Open</th>\n",
              "      <th>High</th>\n",
              "      <th>Low</th>\n",
              "      <th>Close</th>\n",
              "      <th>Adj Close</th>\n",
              "      <th>Volume</th>\n",
              "    </tr>\n",
              "    <tr>\n",
              "      <th>Date</th>\n",
              "      <th></th>\n",
              "      <th></th>\n",
              "      <th></th>\n",
              "      <th></th>\n",
              "      <th></th>\n",
              "      <th></th>\n",
              "    </tr>\n",
              "  </thead>\n",
              "  <tbody>\n",
              "    <tr>\n",
              "      <th>2019-01-02</th>\n",
              "      <td>154.889999</td>\n",
              "      <td>158.850006</td>\n",
              "      <td>154.229996</td>\n",
              "      <td>157.919998</td>\n",
              "      <td>155.306274</td>\n",
              "      <td>37039737</td>\n",
              "    </tr>\n",
              "    <tr>\n",
              "      <th>2019-01-03</th>\n",
              "      <td>143.979996</td>\n",
              "      <td>145.720001</td>\n",
              "      <td>142.000000</td>\n",
              "      <td>142.190002</td>\n",
              "      <td>139.836624</td>\n",
              "      <td>91312195</td>\n",
              "    </tr>\n",
              "    <tr>\n",
              "      <th>2019-01-04</th>\n",
              "      <td>144.529999</td>\n",
              "      <td>148.549896</td>\n",
              "      <td>143.800003</td>\n",
              "      <td>148.259995</td>\n",
              "      <td>145.806137</td>\n",
              "      <td>58607070</td>\n",
              "    </tr>\n",
              "  </tbody>\n",
              "</table>\n",
              "</div>"
            ],
            "text/plain": [
              "                  Open        High  ...   Adj Close    Volume\n",
              "Date                                ...                      \n",
              "2019-01-02  154.889999  158.850006  ...  155.306274  37039737\n",
              "2019-01-03  143.979996  145.720001  ...  139.836624  91312195\n",
              "2019-01-04  144.529999  148.549896  ...  145.806137  58607070\n",
              "\n",
              "[3 rows x 6 columns]"
            ]
          },
          "execution_count": 28,
          "metadata": {},
          "output_type": "execute_result"
        }
      ],
      "source": [
        "df.iloc[0:3]"
      ]
    },
    {
      "cell_type": "markdown",
      "metadata": {},
      "source": [
        "### How to select a specific column?"
      ]
    },
    {
      "cell_type": "code",
      "execution_count": 37,
      "metadata": {
        "colab": {
          "base_uri": "https://localhost:8080/"
        },
        "id": "PDxHtP76ccgg",
        "outputId": "8bbe740f-c395-4943-8a20-d09bd58098bd"
      },
      "outputs": [
        {
          "data": {
            "text/plain": [
              "Date\n",
              "2019-01-02    157.919998\n",
              "2019-01-03    142.190002\n",
              "2019-01-04    148.259995\n",
              "2019-01-07    147.929993\n",
              "2019-01-08    150.750000\n",
              "                 ...    \n",
              "2020-12-24    131.970001\n",
              "2020-12-28    136.690002\n",
              "2020-12-29    134.869995\n",
              "2020-12-30    133.720001\n",
              "2020-12-31    132.690002\n",
              "Name: Close, Length: 505, dtype: float64"
            ]
          },
          "execution_count": 37,
          "metadata": {},
          "output_type": "execute_result"
        }
      ],
      "source": [
        "df['Close']"
      ]
    },
    {
      "cell_type": "markdown",
      "metadata": {},
      "source": [
        "### How to select multiple columns?"
      ]
    },
    {
      "cell_type": "code",
      "execution_count": 7,
      "metadata": {
        "colab": {
          "base_uri": "https://localhost:8080/",
          "height": 455
        },
        "id": "isJ0FJZDJ1ZH",
        "outputId": "0c8922f5-9c14-4c97-b525-15c81e326ca9"
      },
      "outputs": [
        {
          "data": {
            "text/html": [
              "<div>\n",
              "<style scoped>\n",
              "    .dataframe tbody tr th:only-of-type {\n",
              "        vertical-align: middle;\n",
              "    }\n",
              "\n",
              "    .dataframe tbody tr th {\n",
              "        vertical-align: top;\n",
              "    }\n",
              "\n",
              "    .dataframe thead th {\n",
              "        text-align: right;\n",
              "    }\n",
              "</style>\n",
              "<table border=\"1\" class=\"dataframe\">\n",
              "  <thead>\n",
              "    <tr style=\"text-align: right;\">\n",
              "      <th></th>\n",
              "      <th>Open</th>\n",
              "      <th>Close</th>\n",
              "    </tr>\n",
              "    <tr>\n",
              "      <th>Date</th>\n",
              "      <th></th>\n",
              "      <th></th>\n",
              "    </tr>\n",
              "  </thead>\n",
              "  <tbody>\n",
              "    <tr>\n",
              "      <th>2018-12-31</th>\n",
              "      <td>158.529999</td>\n",
              "      <td>157.740005</td>\n",
              "    </tr>\n",
              "    <tr>\n",
              "      <th>2019-01-02</th>\n",
              "      <td>154.889999</td>\n",
              "      <td>157.919998</td>\n",
              "    </tr>\n",
              "    <tr>\n",
              "      <th>2019-01-03</th>\n",
              "      <td>143.979996</td>\n",
              "      <td>142.190002</td>\n",
              "    </tr>\n",
              "    <tr>\n",
              "      <th>2019-01-04</th>\n",
              "      <td>144.529999</td>\n",
              "      <td>148.259995</td>\n",
              "    </tr>\n",
              "    <tr>\n",
              "      <th>2019-01-07</th>\n",
              "      <td>148.699997</td>\n",
              "      <td>147.929993</td>\n",
              "    </tr>\n",
              "    <tr>\n",
              "      <th>...</th>\n",
              "      <td>...</td>\n",
              "      <td>...</td>\n",
              "    </tr>\n",
              "    <tr>\n",
              "      <th>2020-12-24</th>\n",
              "      <td>131.320007</td>\n",
              "      <td>131.970001</td>\n",
              "    </tr>\n",
              "    <tr>\n",
              "      <th>2020-12-28</th>\n",
              "      <td>133.990005</td>\n",
              "      <td>136.690002</td>\n",
              "    </tr>\n",
              "    <tr>\n",
              "      <th>2020-12-29</th>\n",
              "      <td>138.050003</td>\n",
              "      <td>134.869995</td>\n",
              "    </tr>\n",
              "    <tr>\n",
              "      <th>2020-12-30</th>\n",
              "      <td>135.580002</td>\n",
              "      <td>133.720001</td>\n",
              "    </tr>\n",
              "    <tr>\n",
              "      <th>2020-12-31</th>\n",
              "      <td>134.080002</td>\n",
              "      <td>132.690002</td>\n",
              "    </tr>\n",
              "  </tbody>\n",
              "</table>\n",
              "<p>506 rows × 2 columns</p>\n",
              "</div>"
            ],
            "text/plain": [
              "                  Open       Close\n",
              "Date                              \n",
              "2018-12-31  158.529999  157.740005\n",
              "2019-01-02  154.889999  157.919998\n",
              "2019-01-03  143.979996  142.190002\n",
              "2019-01-04  144.529999  148.259995\n",
              "2019-01-07  148.699997  147.929993\n",
              "...                ...         ...\n",
              "2020-12-24  131.320007  131.970001\n",
              "2020-12-28  133.990005  136.690002\n",
              "2020-12-29  138.050003  134.869995\n",
              "2020-12-30  135.580002  133.720001\n",
              "2020-12-31  134.080002  132.690002\n",
              "\n",
              "[506 rows x 2 columns]"
            ]
          },
          "execution_count": 7,
          "metadata": {},
          "output_type": "execute_result"
        }
      ],
      "source": [
        "df[['Open', 'Close']]"
      ]
    },
    {
      "cell_type": "code",
      "execution_count": 8,
      "metadata": {},
      "outputs": [
        {
          "data": {
            "text/html": [
              "<div>\n",
              "<style scoped>\n",
              "    .dataframe tbody tr th:only-of-type {\n",
              "        vertical-align: middle;\n",
              "    }\n",
              "\n",
              "    .dataframe tbody tr th {\n",
              "        vertical-align: top;\n",
              "    }\n",
              "\n",
              "    .dataframe thead th {\n",
              "        text-align: right;\n",
              "    }\n",
              "</style>\n",
              "<table border=\"1\" class=\"dataframe\">\n",
              "  <thead>\n",
              "    <tr style=\"text-align: right;\">\n",
              "      <th></th>\n",
              "      <th>Open</th>\n",
              "      <th>Close</th>\n",
              "    </tr>\n",
              "    <tr>\n",
              "      <th>Date</th>\n",
              "      <th></th>\n",
              "      <th></th>\n",
              "    </tr>\n",
              "  </thead>\n",
              "  <tbody>\n",
              "    <tr>\n",
              "      <th>2018-12-31</th>\n",
              "      <td>158.529999</td>\n",
              "      <td>157.740005</td>\n",
              "    </tr>\n",
              "    <tr>\n",
              "      <th>2019-01-02</th>\n",
              "      <td>154.889999</td>\n",
              "      <td>157.919998</td>\n",
              "    </tr>\n",
              "    <tr>\n",
              "      <th>2019-01-03</th>\n",
              "      <td>143.979996</td>\n",
              "      <td>142.190002</td>\n",
              "    </tr>\n",
              "    <tr>\n",
              "      <th>2019-01-04</th>\n",
              "      <td>144.529999</td>\n",
              "      <td>148.259995</td>\n",
              "    </tr>\n",
              "    <tr>\n",
              "      <th>2019-01-07</th>\n",
              "      <td>148.699997</td>\n",
              "      <td>147.929993</td>\n",
              "    </tr>\n",
              "    <tr>\n",
              "      <th>...</th>\n",
              "      <td>...</td>\n",
              "      <td>...</td>\n",
              "    </tr>\n",
              "    <tr>\n",
              "      <th>2020-12-24</th>\n",
              "      <td>131.320007</td>\n",
              "      <td>131.970001</td>\n",
              "    </tr>\n",
              "    <tr>\n",
              "      <th>2020-12-28</th>\n",
              "      <td>133.990005</td>\n",
              "      <td>136.690002</td>\n",
              "    </tr>\n",
              "    <tr>\n",
              "      <th>2020-12-29</th>\n",
              "      <td>138.050003</td>\n",
              "      <td>134.869995</td>\n",
              "    </tr>\n",
              "    <tr>\n",
              "      <th>2020-12-30</th>\n",
              "      <td>135.580002</td>\n",
              "      <td>133.720001</td>\n",
              "    </tr>\n",
              "    <tr>\n",
              "      <th>2020-12-31</th>\n",
              "      <td>134.080002</td>\n",
              "      <td>132.690002</td>\n",
              "    </tr>\n",
              "  </tbody>\n",
              "</table>\n",
              "<p>506 rows × 2 columns</p>\n",
              "</div>"
            ],
            "text/plain": [
              "                  Open       Close\n",
              "Date                              \n",
              "2018-12-31  158.529999  157.740005\n",
              "2019-01-02  154.889999  157.919998\n",
              "2019-01-03  143.979996  142.190002\n",
              "2019-01-04  144.529999  148.259995\n",
              "2019-01-07  148.699997  147.929993\n",
              "...                ...         ...\n",
              "2020-12-24  131.320007  131.970001\n",
              "2020-12-28  133.990005  136.690002\n",
              "2020-12-29  138.050003  134.869995\n",
              "2020-12-30  135.580002  133.720001\n",
              "2020-12-31  134.080002  132.690002\n",
              "\n",
              "[506 rows x 2 columns]"
            ]
          },
          "execution_count": 8,
          "metadata": {},
          "output_type": "execute_result"
        }
      ],
      "source": [
        "df.iloc[:, [0,3]]"
      ]
    },
    {
      "cell_type": "markdown",
      "metadata": {},
      "source": [
        "### How to get all column names?"
      ]
    },
    {
      "cell_type": "code",
      "execution_count": 85,
      "metadata": {},
      "outputs": [
        {
          "data": {
            "text/plain": [
              "Index(['Open', 'High', 'Low', 'Close', 'Adj Close', 'Volume'], dtype='object')"
            ]
          },
          "execution_count": 85,
          "metadata": {},
          "output_type": "execute_result"
        }
      ],
      "source": [
        "df.columns"
      ]
    },
    {
      "cell_type": "markdown",
      "metadata": {},
      "source": [
        "### How to select data based on condition?"
      ]
    },
    {
      "cell_type": "code",
      "execution_count": 80,
      "metadata": {},
      "outputs": [
        {
          "data": {
            "text/html": [
              "<div>\n",
              "<style scoped>\n",
              "    .dataframe tbody tr th:only-of-type {\n",
              "        vertical-align: middle;\n",
              "    }\n",
              "\n",
              "    .dataframe tbody tr th {\n",
              "        vertical-align: top;\n",
              "    }\n",
              "\n",
              "    .dataframe thead th {\n",
              "        text-align: right;\n",
              "    }\n",
              "</style>\n",
              "<table border=\"1\" class=\"dataframe\">\n",
              "  <thead>\n",
              "    <tr style=\"text-align: right;\">\n",
              "      <th></th>\n",
              "      <th>Open</th>\n",
              "      <th>High</th>\n",
              "      <th>Low</th>\n",
              "      <th>Close</th>\n",
              "      <th>Adj Close</th>\n",
              "      <th>Volume</th>\n",
              "    </tr>\n",
              "    <tr>\n",
              "      <th>Date</th>\n",
              "      <th></th>\n",
              "      <th></th>\n",
              "      <th></th>\n",
              "      <th></th>\n",
              "      <th></th>\n",
              "      <th></th>\n",
              "    </tr>\n",
              "  </thead>\n",
              "  <tbody>\n",
              "    <tr>\n",
              "      <th>2020-07-31</th>\n",
              "      <td>102.885002</td>\n",
              "      <td>106.415001</td>\n",
              "      <td>100.824997</td>\n",
              "      <td>106.260002</td>\n",
              "      <td>105.237312</td>\n",
              "      <td>374336800</td>\n",
              "    </tr>\n",
              "    <tr>\n",
              "      <th>2020-08-03</th>\n",
              "      <td>108.199997</td>\n",
              "      <td>111.637497</td>\n",
              "      <td>107.892502</td>\n",
              "      <td>108.937500</td>\n",
              "      <td>107.889046</td>\n",
              "      <td>308151200</td>\n",
              "    </tr>\n",
              "    <tr>\n",
              "      <th>2020-08-04</th>\n",
              "      <td>109.132500</td>\n",
              "      <td>110.790001</td>\n",
              "      <td>108.387497</td>\n",
              "      <td>109.665001</td>\n",
              "      <td>108.609535</td>\n",
              "      <td>173071600</td>\n",
              "    </tr>\n",
              "    <tr>\n",
              "      <th>2020-08-05</th>\n",
              "      <td>109.377502</td>\n",
              "      <td>110.392502</td>\n",
              "      <td>108.897499</td>\n",
              "      <td>110.062500</td>\n",
              "      <td>109.003212</td>\n",
              "      <td>121776800</td>\n",
              "    </tr>\n",
              "    <tr>\n",
              "      <th>2020-08-06</th>\n",
              "      <td>110.404999</td>\n",
              "      <td>114.412498</td>\n",
              "      <td>109.797501</td>\n",
              "      <td>113.902496</td>\n",
              "      <td>112.806259</td>\n",
              "      <td>202428800</td>\n",
              "    </tr>\n",
              "    <tr>\n",
              "      <th>...</th>\n",
              "      <td>...</td>\n",
              "      <td>...</td>\n",
              "      <td>...</td>\n",
              "      <td>...</td>\n",
              "      <td>...</td>\n",
              "      <td>...</td>\n",
              "    </tr>\n",
              "    <tr>\n",
              "      <th>2020-12-24</th>\n",
              "      <td>131.320007</td>\n",
              "      <td>133.460007</td>\n",
              "      <td>131.100006</td>\n",
              "      <td>131.970001</td>\n",
              "      <td>131.161423</td>\n",
              "      <td>54930100</td>\n",
              "    </tr>\n",
              "    <tr>\n",
              "      <th>2020-12-28</th>\n",
              "      <td>133.990005</td>\n",
              "      <td>137.339996</td>\n",
              "      <td>133.509995</td>\n",
              "      <td>136.690002</td>\n",
              "      <td>135.852509</td>\n",
              "      <td>124486200</td>\n",
              "    </tr>\n",
              "    <tr>\n",
              "      <th>2020-12-29</th>\n",
              "      <td>138.050003</td>\n",
              "      <td>138.789993</td>\n",
              "      <td>134.339996</td>\n",
              "      <td>134.869995</td>\n",
              "      <td>134.043640</td>\n",
              "      <td>121047300</td>\n",
              "    </tr>\n",
              "    <tr>\n",
              "      <th>2020-12-30</th>\n",
              "      <td>135.580002</td>\n",
              "      <td>135.990005</td>\n",
              "      <td>133.399994</td>\n",
              "      <td>133.720001</td>\n",
              "      <td>132.900696</td>\n",
              "      <td>96452100</td>\n",
              "    </tr>\n",
              "    <tr>\n",
              "      <th>2020-12-31</th>\n",
              "      <td>134.080002</td>\n",
              "      <td>134.740005</td>\n",
              "      <td>131.720001</td>\n",
              "      <td>132.690002</td>\n",
              "      <td>131.877014</td>\n",
              "      <td>99116600</td>\n",
              "    </tr>\n",
              "  </tbody>\n",
              "</table>\n",
              "<p>107 rows × 6 columns</p>\n",
              "</div>"
            ],
            "text/plain": [
              "                  Open        High         Low       Close   Adj Close  \\\n",
              "Date                                                                     \n",
              "2020-07-31  102.885002  106.415001  100.824997  106.260002  105.237312   \n",
              "2020-08-03  108.199997  111.637497  107.892502  108.937500  107.889046   \n",
              "2020-08-04  109.132500  110.790001  108.387497  109.665001  108.609535   \n",
              "2020-08-05  109.377502  110.392502  108.897499  110.062500  109.003212   \n",
              "2020-08-06  110.404999  114.412498  109.797501  113.902496  112.806259   \n",
              "...                ...         ...         ...         ...         ...   \n",
              "2020-12-24  131.320007  133.460007  131.100006  131.970001  131.161423   \n",
              "2020-12-28  133.990005  137.339996  133.509995  136.690002  135.852509   \n",
              "2020-12-29  138.050003  138.789993  134.339996  134.869995  134.043640   \n",
              "2020-12-30  135.580002  135.990005  133.399994  133.720001  132.900696   \n",
              "2020-12-31  134.080002  134.740005  131.720001  132.690002  131.877014   \n",
              "\n",
              "               Volume  \n",
              "Date                   \n",
              "2020-07-31  374336800  \n",
              "2020-08-03  308151200  \n",
              "2020-08-04  173071600  \n",
              "2020-08-05  121776800  \n",
              "2020-08-06  202428800  \n",
              "...               ...  \n",
              "2020-12-24   54930100  \n",
              "2020-12-28  124486200  \n",
              "2020-12-29  121047300  \n",
              "2020-12-30   96452100  \n",
              "2020-12-31   99116600  \n",
              "\n",
              "[107 rows x 6 columns]"
            ]
          },
          "execution_count": 80,
          "metadata": {},
          "output_type": "execute_result"
        }
      ],
      "source": [
        "df[df['Close'] > 100]"
      ]
    },
    {
      "cell_type": "code",
      "execution_count": 81,
      "metadata": {},
      "outputs": [
        {
          "data": {
            "text/html": [
              "<div>\n",
              "<style scoped>\n",
              "    .dataframe tbody tr th:only-of-type {\n",
              "        vertical-align: middle;\n",
              "    }\n",
              "\n",
              "    .dataframe tbody tr th {\n",
              "        vertical-align: top;\n",
              "    }\n",
              "\n",
              "    .dataframe thead th {\n",
              "        text-align: right;\n",
              "    }\n",
              "</style>\n",
              "<table border=\"1\" class=\"dataframe\">\n",
              "  <thead>\n",
              "    <tr style=\"text-align: right;\">\n",
              "      <th></th>\n",
              "      <th>Open</th>\n",
              "      <th>High</th>\n",
              "      <th>Low</th>\n",
              "      <th>Close</th>\n",
              "      <th>Adj Close</th>\n",
              "      <th>Volume</th>\n",
              "    </tr>\n",
              "    <tr>\n",
              "      <th>Date</th>\n",
              "      <th></th>\n",
              "      <th></th>\n",
              "      <th></th>\n",
              "      <th></th>\n",
              "      <th></th>\n",
              "      <th></th>\n",
              "    </tr>\n",
              "  </thead>\n",
              "  <tbody>\n",
              "    <tr>\n",
              "      <th>2020-02-28</th>\n",
              "      <td>64.315002</td>\n",
              "      <td>69.602501</td>\n",
              "      <td>64.092499</td>\n",
              "      <td>68.339996</td>\n",
              "      <td>67.499542</td>\n",
              "      <td>426510000</td>\n",
              "    </tr>\n",
              "    <tr>\n",
              "      <th>2020-03-02</th>\n",
              "      <td>70.570000</td>\n",
              "      <td>75.360001</td>\n",
              "      <td>69.430000</td>\n",
              "      <td>74.702499</td>\n",
              "      <td>73.783798</td>\n",
              "      <td>341397200</td>\n",
              "    </tr>\n",
              "    <tr>\n",
              "      <th>2020-03-20</th>\n",
              "      <td>61.794998</td>\n",
              "      <td>62.957500</td>\n",
              "      <td>57.000000</td>\n",
              "      <td>57.310001</td>\n",
              "      <td>56.605198</td>\n",
              "      <td>401693200</td>\n",
              "    </tr>\n",
              "    <tr>\n",
              "      <th>2020-09-10</th>\n",
              "      <td>120.360001</td>\n",
              "      <td>120.500000</td>\n",
              "      <td>112.500000</td>\n",
              "      <td>113.489998</td>\n",
              "      <td>112.600388</td>\n",
              "      <td>182274400</td>\n",
              "    </tr>\n",
              "    <tr>\n",
              "      <th>2020-09-21</th>\n",
              "      <td>104.540001</td>\n",
              "      <td>110.190002</td>\n",
              "      <td>103.099998</td>\n",
              "      <td>110.080002</td>\n",
              "      <td>109.217117</td>\n",
              "      <td>195713800</td>\n",
              "    </tr>\n",
              "  </tbody>\n",
              "</table>\n",
              "</div>"
            ],
            "text/plain": [
              "                  Open        High         Low       Close   Adj Close  \\\n",
              "Date                                                                     \n",
              "2020-02-28   64.315002   69.602501   64.092499   68.339996   67.499542   \n",
              "2020-03-02   70.570000   75.360001   69.430000   74.702499   73.783798   \n",
              "2020-03-20   61.794998   62.957500   57.000000   57.310001   56.605198   \n",
              "2020-09-10  120.360001  120.500000  112.500000  113.489998  112.600388   \n",
              "2020-09-21  104.540001  110.190002  103.099998  110.080002  109.217117   \n",
              "\n",
              "               Volume  \n",
              "Date                   \n",
              "2020-02-28  426510000  \n",
              "2020-03-02  341397200  \n",
              "2020-03-20  401693200  \n",
              "2020-09-10  182274400  \n",
              "2020-09-21  195713800  "
            ]
          },
          "execution_count": 81,
          "metadata": {},
          "output_type": "execute_result"
        }
      ],
      "source": [
        "price_change = abs(df['Close'] - df['Open'])/df['Open'] * 100\n",
        "df[price_change > 5]"
      ]
    },
    {
      "cell_type": "markdown",
      "metadata": {},
      "source": [
        "## 4. Handling and manipulating data"
      ]
    },
    {
      "cell_type": "markdown",
      "metadata": {},
      "source": [
        "### How to delete/remove a specific row?"
      ]
    },
    {
      "cell_type": "code",
      "execution_count": 82,
      "metadata": {},
      "outputs": [
        {
          "data": {
            "text/html": [
              "<div>\n",
              "<style scoped>\n",
              "    .dataframe tbody tr th:only-of-type {\n",
              "        vertical-align: middle;\n",
              "    }\n",
              "\n",
              "    .dataframe tbody tr th {\n",
              "        vertical-align: top;\n",
              "    }\n",
              "\n",
              "    .dataframe thead th {\n",
              "        text-align: right;\n",
              "    }\n",
              "</style>\n",
              "<table border=\"1\" class=\"dataframe\">\n",
              "  <thead>\n",
              "    <tr style=\"text-align: right;\">\n",
              "      <th></th>\n",
              "      <th>Open</th>\n",
              "      <th>High</th>\n",
              "      <th>Low</th>\n",
              "      <th>Close</th>\n",
              "      <th>Adj Close</th>\n",
              "      <th>Volume</th>\n",
              "    </tr>\n",
              "    <tr>\n",
              "      <th>Date</th>\n",
              "      <th></th>\n",
              "      <th></th>\n",
              "      <th></th>\n",
              "      <th></th>\n",
              "      <th></th>\n",
              "      <th></th>\n",
              "    </tr>\n",
              "  </thead>\n",
              "  <tbody>\n",
              "    <tr>\n",
              "      <th>2020-12-23</th>\n",
              "      <td>132.160004</td>\n",
              "      <td>132.429993</td>\n",
              "      <td>130.779999</td>\n",
              "      <td>130.960007</td>\n",
              "      <td>130.157608</td>\n",
              "      <td>88223700</td>\n",
              "    </tr>\n",
              "    <tr>\n",
              "      <th>2020-12-24</th>\n",
              "      <td>131.320007</td>\n",
              "      <td>133.460007</td>\n",
              "      <td>131.100006</td>\n",
              "      <td>131.970001</td>\n",
              "      <td>131.161423</td>\n",
              "      <td>54930100</td>\n",
              "    </tr>\n",
              "    <tr>\n",
              "      <th>2020-12-28</th>\n",
              "      <td>133.990005</td>\n",
              "      <td>137.339996</td>\n",
              "      <td>133.509995</td>\n",
              "      <td>136.690002</td>\n",
              "      <td>135.852509</td>\n",
              "      <td>124486200</td>\n",
              "    </tr>\n",
              "    <tr>\n",
              "      <th>2020-12-29</th>\n",
              "      <td>138.050003</td>\n",
              "      <td>138.789993</td>\n",
              "      <td>134.339996</td>\n",
              "      <td>134.869995</td>\n",
              "      <td>134.043640</td>\n",
              "      <td>121047300</td>\n",
              "    </tr>\n",
              "    <tr>\n",
              "      <th>2020-12-30</th>\n",
              "      <td>135.580002</td>\n",
              "      <td>135.990005</td>\n",
              "      <td>133.399994</td>\n",
              "      <td>133.720001</td>\n",
              "      <td>132.900696</td>\n",
              "      <td>96452100</td>\n",
              "    </tr>\n",
              "  </tbody>\n",
              "</table>\n",
              "</div>"
            ],
            "text/plain": [
              "                  Open        High         Low       Close   Adj Close  \\\n",
              "Date                                                                     \n",
              "2020-12-23  132.160004  132.429993  130.779999  130.960007  130.157608   \n",
              "2020-12-24  131.320007  133.460007  131.100006  131.970001  131.161423   \n",
              "2020-12-28  133.990005  137.339996  133.509995  136.690002  135.852509   \n",
              "2020-12-29  138.050003  138.789993  134.339996  134.869995  134.043640   \n",
              "2020-12-30  135.580002  135.990005  133.399994  133.720001  132.900696   \n",
              "\n",
              "               Volume  \n",
              "Date                   \n",
              "2020-12-23   88223700  \n",
              "2020-12-24   54930100  \n",
              "2020-12-28  124486200  \n",
              "2020-12-29  121047300  \n",
              "2020-12-30   96452100  "
            ]
          },
          "execution_count": 82,
          "metadata": {},
          "output_type": "execute_result"
        }
      ],
      "source": [
        "df.drop('2020-12-31').tail()"
      ]
    },
    {
      "cell_type": "code",
      "execution_count": 83,
      "metadata": {},
      "outputs": [
        {
          "data": {
            "text/html": [
              "<div>\n",
              "<style scoped>\n",
              "    .dataframe tbody tr th:only-of-type {\n",
              "        vertical-align: middle;\n",
              "    }\n",
              "\n",
              "    .dataframe tbody tr th {\n",
              "        vertical-align: top;\n",
              "    }\n",
              "\n",
              "    .dataframe thead th {\n",
              "        text-align: right;\n",
              "    }\n",
              "</style>\n",
              "<table border=\"1\" class=\"dataframe\">\n",
              "  <thead>\n",
              "    <tr style=\"text-align: right;\">\n",
              "      <th></th>\n",
              "      <th>Open</th>\n",
              "      <th>High</th>\n",
              "      <th>Low</th>\n",
              "      <th>Close</th>\n",
              "      <th>Adj Close</th>\n",
              "      <th>Volume</th>\n",
              "    </tr>\n",
              "    <tr>\n",
              "      <th>Date</th>\n",
              "      <th></th>\n",
              "      <th></th>\n",
              "      <th></th>\n",
              "      <th></th>\n",
              "      <th></th>\n",
              "      <th></th>\n",
              "    </tr>\n",
              "  </thead>\n",
              "  <tbody>\n",
              "    <tr>\n",
              "      <th>2020-12-23</th>\n",
              "      <td>132.160004</td>\n",
              "      <td>132.429993</td>\n",
              "      <td>130.779999</td>\n",
              "      <td>130.960007</td>\n",
              "      <td>130.157608</td>\n",
              "      <td>88223700</td>\n",
              "    </tr>\n",
              "    <tr>\n",
              "      <th>2020-12-24</th>\n",
              "      <td>131.320007</td>\n",
              "      <td>133.460007</td>\n",
              "      <td>131.100006</td>\n",
              "      <td>131.970001</td>\n",
              "      <td>131.161423</td>\n",
              "      <td>54930100</td>\n",
              "    </tr>\n",
              "    <tr>\n",
              "      <th>2020-12-28</th>\n",
              "      <td>133.990005</td>\n",
              "      <td>137.339996</td>\n",
              "      <td>133.509995</td>\n",
              "      <td>136.690002</td>\n",
              "      <td>135.852509</td>\n",
              "      <td>124486200</td>\n",
              "    </tr>\n",
              "    <tr>\n",
              "      <th>2020-12-29</th>\n",
              "      <td>138.050003</td>\n",
              "      <td>138.789993</td>\n",
              "      <td>134.339996</td>\n",
              "      <td>134.869995</td>\n",
              "      <td>134.043640</td>\n",
              "      <td>121047300</td>\n",
              "    </tr>\n",
              "    <tr>\n",
              "      <th>2020-12-30</th>\n",
              "      <td>135.580002</td>\n",
              "      <td>135.990005</td>\n",
              "      <td>133.399994</td>\n",
              "      <td>133.720001</td>\n",
              "      <td>132.900696</td>\n",
              "      <td>96452100</td>\n",
              "    </tr>\n",
              "  </tbody>\n",
              "</table>\n",
              "</div>"
            ],
            "text/plain": [
              "                  Open        High         Low       Close   Adj Close  \\\n",
              "Date                                                                     \n",
              "2020-12-23  132.160004  132.429993  130.779999  130.960007  130.157608   \n",
              "2020-12-24  131.320007  133.460007  131.100006  131.970001  131.161423   \n",
              "2020-12-28  133.990005  137.339996  133.509995  136.690002  135.852509   \n",
              "2020-12-29  138.050003  138.789993  134.339996  134.869995  134.043640   \n",
              "2020-12-30  135.580002  135.990005  133.399994  133.720001  132.900696   \n",
              "\n",
              "               Volume  \n",
              "Date                   \n",
              "2020-12-23   88223700  \n",
              "2020-12-24   54930100  \n",
              "2020-12-28  124486200  \n",
              "2020-12-29  121047300  \n",
              "2020-12-30   96452100  "
            ]
          },
          "execution_count": 83,
          "metadata": {},
          "output_type": "execute_result"
        }
      ],
      "source": [
        "df.drop(df.index[-1]).tail()"
      ]
    },
    {
      "cell_type": "markdown",
      "metadata": {},
      "source": [
        "### How to delete/remove multiple rows?"
      ]
    },
    {
      "cell_type": "code",
      "execution_count": 45,
      "metadata": {},
      "outputs": [
        {
          "data": {
            "text/html": [
              "<div>\n",
              "<style scoped>\n",
              "    .dataframe tbody tr th:only-of-type {\n",
              "        vertical-align: middle;\n",
              "    }\n",
              "\n",
              "    .dataframe tbody tr th {\n",
              "        vertical-align: top;\n",
              "    }\n",
              "\n",
              "    .dataframe thead th {\n",
              "        text-align: right;\n",
              "    }\n",
              "</style>\n",
              "<table border=\"1\" class=\"dataframe\">\n",
              "  <thead>\n",
              "    <tr style=\"text-align: right;\">\n",
              "      <th></th>\n",
              "      <th>Open</th>\n",
              "      <th>High</th>\n",
              "      <th>Low</th>\n",
              "      <th>Close</th>\n",
              "      <th>Adj Close</th>\n",
              "      <th>Volume</th>\n",
              "    </tr>\n",
              "    <tr>\n",
              "      <th>Date</th>\n",
              "      <th></th>\n",
              "      <th></th>\n",
              "      <th></th>\n",
              "      <th></th>\n",
              "      <th></th>\n",
              "      <th></th>\n",
              "    </tr>\n",
              "  </thead>\n",
              "  <tbody>\n",
              "    <tr>\n",
              "      <th>2020-12-21</th>\n",
              "      <td>125.019997</td>\n",
              "      <td>128.309998</td>\n",
              "      <td>123.448997</td>\n",
              "      <td>128.229996</td>\n",
              "      <td>127.444328</td>\n",
              "      <td>121251553</td>\n",
              "    </tr>\n",
              "    <tr>\n",
              "      <th>2020-12-22</th>\n",
              "      <td>131.610001</td>\n",
              "      <td>134.404999</td>\n",
              "      <td>129.649994</td>\n",
              "      <td>131.880005</td>\n",
              "      <td>131.071976</td>\n",
              "      <td>169351825</td>\n",
              "    </tr>\n",
              "    <tr>\n",
              "      <th>2020-12-23</th>\n",
              "      <td>132.160004</td>\n",
              "      <td>132.429993</td>\n",
              "      <td>130.779999</td>\n",
              "      <td>130.960007</td>\n",
              "      <td>130.157608</td>\n",
              "      <td>88223692</td>\n",
              "    </tr>\n",
              "    <tr>\n",
              "      <th>2020-12-24</th>\n",
              "      <td>131.320007</td>\n",
              "      <td>133.460007</td>\n",
              "      <td>131.100006</td>\n",
              "      <td>131.970001</td>\n",
              "      <td>131.161423</td>\n",
              "      <td>54930064</td>\n",
              "    </tr>\n",
              "    <tr>\n",
              "      <th>2020-12-28</th>\n",
              "      <td>133.990005</td>\n",
              "      <td>137.339996</td>\n",
              "      <td>133.509995</td>\n",
              "      <td>136.690002</td>\n",
              "      <td>135.852509</td>\n",
              "      <td>124486237</td>\n",
              "    </tr>\n",
              "  </tbody>\n",
              "</table>\n",
              "</div>"
            ],
            "text/plain": [
              "                  Open        High         Low       Close   Adj Close  \\\n",
              "Date                                                                     \n",
              "2020-12-21  125.019997  128.309998  123.448997  128.229996  127.444328   \n",
              "2020-12-22  131.610001  134.404999  129.649994  131.880005  131.071976   \n",
              "2020-12-23  132.160004  132.429993  130.779999  130.960007  130.157608   \n",
              "2020-12-24  131.320007  133.460007  131.100006  131.970001  131.161423   \n",
              "2020-12-28  133.990005  137.339996  133.509995  136.690002  135.852509   \n",
              "\n",
              "               Volume  \n",
              "Date                   \n",
              "2020-12-21  121251553  \n",
              "2020-12-22  169351825  \n",
              "2020-12-23   88223692  \n",
              "2020-12-24   54930064  \n",
              "2020-12-28  124486237  "
            ]
          },
          "execution_count": 45,
          "metadata": {},
          "output_type": "execute_result"
        }
      ],
      "source": [
        "df.drop(['2020-12-29', '2020-12-30', '2020-12-31']).tail()"
      ]
    },
    {
      "cell_type": "code",
      "execution_count": 46,
      "metadata": {},
      "outputs": [
        {
          "data": {
            "text/html": [
              "<div>\n",
              "<style scoped>\n",
              "    .dataframe tbody tr th:only-of-type {\n",
              "        vertical-align: middle;\n",
              "    }\n",
              "\n",
              "    .dataframe tbody tr th {\n",
              "        vertical-align: top;\n",
              "    }\n",
              "\n",
              "    .dataframe thead th {\n",
              "        text-align: right;\n",
              "    }\n",
              "</style>\n",
              "<table border=\"1\" class=\"dataframe\">\n",
              "  <thead>\n",
              "    <tr style=\"text-align: right;\">\n",
              "      <th></th>\n",
              "      <th>Open</th>\n",
              "      <th>High</th>\n",
              "      <th>Low</th>\n",
              "      <th>Close</th>\n",
              "      <th>Adj Close</th>\n",
              "      <th>Volume</th>\n",
              "    </tr>\n",
              "    <tr>\n",
              "      <th>Date</th>\n",
              "      <th></th>\n",
              "      <th></th>\n",
              "      <th></th>\n",
              "      <th></th>\n",
              "      <th></th>\n",
              "      <th></th>\n",
              "    </tr>\n",
              "  </thead>\n",
              "  <tbody>\n",
              "    <tr>\n",
              "      <th>2020-12-21</th>\n",
              "      <td>125.019997</td>\n",
              "      <td>128.309998</td>\n",
              "      <td>123.448997</td>\n",
              "      <td>128.229996</td>\n",
              "      <td>127.444328</td>\n",
              "      <td>121251553</td>\n",
              "    </tr>\n",
              "    <tr>\n",
              "      <th>2020-12-22</th>\n",
              "      <td>131.610001</td>\n",
              "      <td>134.404999</td>\n",
              "      <td>129.649994</td>\n",
              "      <td>131.880005</td>\n",
              "      <td>131.071976</td>\n",
              "      <td>169351825</td>\n",
              "    </tr>\n",
              "    <tr>\n",
              "      <th>2020-12-23</th>\n",
              "      <td>132.160004</td>\n",
              "      <td>132.429993</td>\n",
              "      <td>130.779999</td>\n",
              "      <td>130.960007</td>\n",
              "      <td>130.157608</td>\n",
              "      <td>88223692</td>\n",
              "    </tr>\n",
              "    <tr>\n",
              "      <th>2020-12-24</th>\n",
              "      <td>131.320007</td>\n",
              "      <td>133.460007</td>\n",
              "      <td>131.100006</td>\n",
              "      <td>131.970001</td>\n",
              "      <td>131.161423</td>\n",
              "      <td>54930064</td>\n",
              "    </tr>\n",
              "    <tr>\n",
              "      <th>2020-12-28</th>\n",
              "      <td>133.990005</td>\n",
              "      <td>137.339996</td>\n",
              "      <td>133.509995</td>\n",
              "      <td>136.690002</td>\n",
              "      <td>135.852509</td>\n",
              "      <td>124486237</td>\n",
              "    </tr>\n",
              "  </tbody>\n",
              "</table>\n",
              "</div>"
            ],
            "text/plain": [
              "                  Open        High         Low       Close   Adj Close  \\\n",
              "Date                                                                     \n",
              "2020-12-21  125.019997  128.309998  123.448997  128.229996  127.444328   \n",
              "2020-12-22  131.610001  134.404999  129.649994  131.880005  131.071976   \n",
              "2020-12-23  132.160004  132.429993  130.779999  130.960007  130.157608   \n",
              "2020-12-24  131.320007  133.460007  131.100006  131.970001  131.161423   \n",
              "2020-12-28  133.990005  137.339996  133.509995  136.690002  135.852509   \n",
              "\n",
              "               Volume  \n",
              "Date                   \n",
              "2020-12-21  121251553  \n",
              "2020-12-22  169351825  \n",
              "2020-12-23   88223692  \n",
              "2020-12-24   54930064  \n",
              "2020-12-28  124486237  "
            ]
          },
          "execution_count": 46,
          "metadata": {},
          "output_type": "execute_result"
        }
      ],
      "source": [
        "df.drop(df.index[-3:]).tail()"
      ]
    },
    {
      "cell_type": "markdown",
      "metadata": {},
      "source": [
        "### How to delete/remove column(s)?"
      ]
    },
    {
      "cell_type": "code",
      "execution_count": 59,
      "metadata": {},
      "outputs": [
        {
          "data": {
            "text/html": [
              "<div>\n",
              "<style scoped>\n",
              "    .dataframe tbody tr th:only-of-type {\n",
              "        vertical-align: middle;\n",
              "    }\n",
              "\n",
              "    .dataframe tbody tr th {\n",
              "        vertical-align: top;\n",
              "    }\n",
              "\n",
              "    .dataframe thead th {\n",
              "        text-align: right;\n",
              "    }\n",
              "</style>\n",
              "<table border=\"1\" class=\"dataframe\">\n",
              "  <thead>\n",
              "    <tr style=\"text-align: right;\">\n",
              "      <th></th>\n",
              "      <th>Open</th>\n",
              "      <th>High</th>\n",
              "      <th>Low</th>\n",
              "      <th>Close</th>\n",
              "    </tr>\n",
              "    <tr>\n",
              "      <th>Date</th>\n",
              "      <th></th>\n",
              "      <th></th>\n",
              "      <th></th>\n",
              "      <th></th>\n",
              "    </tr>\n",
              "  </thead>\n",
              "  <tbody>\n",
              "    <tr>\n",
              "      <th>2020-12-24</th>\n",
              "      <td>131.320007</td>\n",
              "      <td>133.460007</td>\n",
              "      <td>131.100006</td>\n",
              "      <td>131.970001</td>\n",
              "    </tr>\n",
              "    <tr>\n",
              "      <th>2020-12-28</th>\n",
              "      <td>133.990005</td>\n",
              "      <td>137.339996</td>\n",
              "      <td>133.509995</td>\n",
              "      <td>136.690002</td>\n",
              "    </tr>\n",
              "    <tr>\n",
              "      <th>2020-12-29</th>\n",
              "      <td>138.050003</td>\n",
              "      <td>138.789001</td>\n",
              "      <td>134.340897</td>\n",
              "      <td>134.869995</td>\n",
              "    </tr>\n",
              "    <tr>\n",
              "      <th>2020-12-30</th>\n",
              "      <td>135.580002</td>\n",
              "      <td>135.990005</td>\n",
              "      <td>133.399994</td>\n",
              "      <td>133.720001</td>\n",
              "    </tr>\n",
              "    <tr>\n",
              "      <th>2020-12-31</th>\n",
              "      <td>134.080002</td>\n",
              "      <td>134.740005</td>\n",
              "      <td>131.720001</td>\n",
              "      <td>132.690002</td>\n",
              "    </tr>\n",
              "  </tbody>\n",
              "</table>\n",
              "</div>"
            ],
            "text/plain": [
              "                  Open        High         Low       Close\n",
              "Date                                                      \n",
              "2020-12-24  131.320007  133.460007  131.100006  131.970001\n",
              "2020-12-28  133.990005  137.339996  133.509995  136.690002\n",
              "2020-12-29  138.050003  138.789001  134.340897  134.869995\n",
              "2020-12-30  135.580002  135.990005  133.399994  133.720001\n",
              "2020-12-31  134.080002  134.740005  131.720001  132.690002"
            ]
          },
          "execution_count": 59,
          "metadata": {},
          "output_type": "execute_result"
        }
      ],
      "source": [
        "df.drop(columns=['Adj Close', 'Volume']).tail()"
      ]
    },
    {
      "cell_type": "code",
      "execution_count": 60,
      "metadata": {},
      "outputs": [
        {
          "data": {
            "text/html": [
              "<div>\n",
              "<style scoped>\n",
              "    .dataframe tbody tr th:only-of-type {\n",
              "        vertical-align: middle;\n",
              "    }\n",
              "\n",
              "    .dataframe tbody tr th {\n",
              "        vertical-align: top;\n",
              "    }\n",
              "\n",
              "    .dataframe thead th {\n",
              "        text-align: right;\n",
              "    }\n",
              "</style>\n",
              "<table border=\"1\" class=\"dataframe\">\n",
              "  <thead>\n",
              "    <tr style=\"text-align: right;\">\n",
              "      <th></th>\n",
              "      <th>Open</th>\n",
              "      <th>High</th>\n",
              "      <th>Low</th>\n",
              "      <th>Close</th>\n",
              "    </tr>\n",
              "    <tr>\n",
              "      <th>Date</th>\n",
              "      <th></th>\n",
              "      <th></th>\n",
              "      <th></th>\n",
              "      <th></th>\n",
              "    </tr>\n",
              "  </thead>\n",
              "  <tbody>\n",
              "    <tr>\n",
              "      <th>2020-12-24</th>\n",
              "      <td>131.320007</td>\n",
              "      <td>133.460007</td>\n",
              "      <td>131.100006</td>\n",
              "      <td>131.970001</td>\n",
              "    </tr>\n",
              "    <tr>\n",
              "      <th>2020-12-28</th>\n",
              "      <td>133.990005</td>\n",
              "      <td>137.339996</td>\n",
              "      <td>133.509995</td>\n",
              "      <td>136.690002</td>\n",
              "    </tr>\n",
              "    <tr>\n",
              "      <th>2020-12-29</th>\n",
              "      <td>138.050003</td>\n",
              "      <td>138.789001</td>\n",
              "      <td>134.340897</td>\n",
              "      <td>134.869995</td>\n",
              "    </tr>\n",
              "    <tr>\n",
              "      <th>2020-12-30</th>\n",
              "      <td>135.580002</td>\n",
              "      <td>135.990005</td>\n",
              "      <td>133.399994</td>\n",
              "      <td>133.720001</td>\n",
              "    </tr>\n",
              "    <tr>\n",
              "      <th>2020-12-31</th>\n",
              "      <td>134.080002</td>\n",
              "      <td>134.740005</td>\n",
              "      <td>131.720001</td>\n",
              "      <td>132.690002</td>\n",
              "    </tr>\n",
              "  </tbody>\n",
              "</table>\n",
              "</div>"
            ],
            "text/plain": [
              "                  Open        High         Low       Close\n",
              "Date                                                      \n",
              "2020-12-24  131.320007  133.460007  131.100006  131.970001\n",
              "2020-12-28  133.990005  137.339996  133.509995  136.690002\n",
              "2020-12-29  138.050003  138.789001  134.340897  134.869995\n",
              "2020-12-30  135.580002  135.990005  133.399994  133.720001\n",
              "2020-12-31  134.080002  134.740005  131.720001  132.690002"
            ]
          },
          "execution_count": 60,
          "metadata": {},
          "output_type": "execute_result"
        }
      ],
      "source": [
        "df.drop(columns=df.columns[4:]).tail()"
      ]
    },
    {
      "cell_type": "markdown",
      "metadata": {},
      "source": [
        "### How to drop rows with NaN or empty value?"
      ]
    },
    {
      "cell_type": "code",
      "execution_count": 8,
      "metadata": {},
      "outputs": [
        {
          "data": {
            "text/html": [
              "<div>\n",
              "<style scoped>\n",
              "    .dataframe tbody tr th:only-of-type {\n",
              "        vertical-align: middle;\n",
              "    }\n",
              "\n",
              "    .dataframe tbody tr th {\n",
              "        vertical-align: top;\n",
              "    }\n",
              "\n",
              "    .dataframe thead th {\n",
              "        text-align: right;\n",
              "    }\n",
              "</style>\n",
              "<table border=\"1\" class=\"dataframe\">\n",
              "  <thead>\n",
              "    <tr style=\"text-align: right;\">\n",
              "      <th></th>\n",
              "      <th>Open</th>\n",
              "      <th>High</th>\n",
              "      <th>Low</th>\n",
              "      <th>Close</th>\n",
              "      <th>Adj Close</th>\n",
              "      <th>Volume</th>\n",
              "    </tr>\n",
              "    <tr>\n",
              "      <th>Date</th>\n",
              "      <th></th>\n",
              "      <th></th>\n",
              "      <th></th>\n",
              "      <th></th>\n",
              "      <th></th>\n",
              "      <th></th>\n",
              "    </tr>\n",
              "  </thead>\n",
              "  <tbody>\n",
              "    <tr>\n",
              "      <th>2018-12-31</th>\n",
              "      <td>158.529999</td>\n",
              "      <td>159.360001</td>\n",
              "      <td>156.479996</td>\n",
              "      <td>157.740005</td>\n",
              "      <td>155.129257</td>\n",
              "      <td>35003466</td>\n",
              "    </tr>\n",
              "    <tr>\n",
              "      <th>2019-01-02</th>\n",
              "      <td>154.889999</td>\n",
              "      <td>158.850006</td>\n",
              "      <td>154.229996</td>\n",
              "      <td>157.919998</td>\n",
              "      <td>155.306259</td>\n",
              "      <td>37039737</td>\n",
              "    </tr>\n",
              "    <tr>\n",
              "      <th>2019-01-03</th>\n",
              "      <td>143.979996</td>\n",
              "      <td>145.720001</td>\n",
              "      <td>142.000000</td>\n",
              "      <td>142.190002</td>\n",
              "      <td>139.836609</td>\n",
              "      <td>91312195</td>\n",
              "    </tr>\n",
              "    <tr>\n",
              "      <th>2019-01-04</th>\n",
              "      <td>144.529999</td>\n",
              "      <td>148.549896</td>\n",
              "      <td>143.800003</td>\n",
              "      <td>148.259995</td>\n",
              "      <td>145.806137</td>\n",
              "      <td>58607070</td>\n",
              "    </tr>\n",
              "    <tr>\n",
              "      <th>2019-01-07</th>\n",
              "      <td>148.699997</td>\n",
              "      <td>148.830002</td>\n",
              "      <td>145.899994</td>\n",
              "      <td>147.929993</td>\n",
              "      <td>145.481613</td>\n",
              "      <td>54777764</td>\n",
              "    </tr>\n",
              "    <tr>\n",
              "      <th>...</th>\n",
              "      <td>...</td>\n",
              "      <td>...</td>\n",
              "      <td>...</td>\n",
              "      <td>...</td>\n",
              "      <td>...</td>\n",
              "      <td>...</td>\n",
              "    </tr>\n",
              "    <tr>\n",
              "      <th>2020-12-24</th>\n",
              "      <td>131.320007</td>\n",
              "      <td>133.460007</td>\n",
              "      <td>131.100006</td>\n",
              "      <td>131.970001</td>\n",
              "      <td>131.161407</td>\n",
              "      <td>54930064</td>\n",
              "    </tr>\n",
              "    <tr>\n",
              "      <th>2020-12-28</th>\n",
              "      <td>133.990005</td>\n",
              "      <td>137.339996</td>\n",
              "      <td>133.509995</td>\n",
              "      <td>136.690002</td>\n",
              "      <td>135.852509</td>\n",
              "      <td>124486237</td>\n",
              "    </tr>\n",
              "    <tr>\n",
              "      <th>2020-12-29</th>\n",
              "      <td>138.050003</td>\n",
              "      <td>138.789001</td>\n",
              "      <td>134.340897</td>\n",
              "      <td>134.869995</td>\n",
              "      <td>134.043640</td>\n",
              "      <td>121047324</td>\n",
              "    </tr>\n",
              "    <tr>\n",
              "      <th>2020-12-30</th>\n",
              "      <td>135.580002</td>\n",
              "      <td>135.990005</td>\n",
              "      <td>133.399994</td>\n",
              "      <td>133.720001</td>\n",
              "      <td>132.900696</td>\n",
              "      <td>96452124</td>\n",
              "    </tr>\n",
              "    <tr>\n",
              "      <th>2020-12-31</th>\n",
              "      <td>134.080002</td>\n",
              "      <td>134.740005</td>\n",
              "      <td>131.720001</td>\n",
              "      <td>132.690002</td>\n",
              "      <td>131.876999</td>\n",
              "      <td>99116586</td>\n",
              "    </tr>\n",
              "  </tbody>\n",
              "</table>\n",
              "<p>506 rows × 6 columns</p>\n",
              "</div>"
            ],
            "text/plain": [
              "                  Open        High         Low       Close   Adj Close  \\\n",
              "Date                                                                     \n",
              "2018-12-31  158.529999  159.360001  156.479996  157.740005  155.129257   \n",
              "2019-01-02  154.889999  158.850006  154.229996  157.919998  155.306259   \n",
              "2019-01-03  143.979996  145.720001  142.000000  142.190002  139.836609   \n",
              "2019-01-04  144.529999  148.549896  143.800003  148.259995  145.806137   \n",
              "2019-01-07  148.699997  148.830002  145.899994  147.929993  145.481613   \n",
              "...                ...         ...         ...         ...         ...   \n",
              "2020-12-24  131.320007  133.460007  131.100006  131.970001  131.161407   \n",
              "2020-12-28  133.990005  137.339996  133.509995  136.690002  135.852509   \n",
              "2020-12-29  138.050003  138.789001  134.340897  134.869995  134.043640   \n",
              "2020-12-30  135.580002  135.990005  133.399994  133.720001  132.900696   \n",
              "2020-12-31  134.080002  134.740005  131.720001  132.690002  131.876999   \n",
              "\n",
              "               Volume  \n",
              "Date                   \n",
              "2018-12-31   35003466  \n",
              "2019-01-02   37039737  \n",
              "2019-01-03   91312195  \n",
              "2019-01-04   58607070  \n",
              "2019-01-07   54777764  \n",
              "...               ...  \n",
              "2020-12-24   54930064  \n",
              "2020-12-28  124486237  \n",
              "2020-12-29  121047324  \n",
              "2020-12-30   96452124  \n",
              "2020-12-31   99116586  \n",
              "\n",
              "[506 rows x 6 columns]"
            ]
          },
          "execution_count": 8,
          "metadata": {},
          "output_type": "execute_result"
        }
      ],
      "source": [
        "df.dropna()"
      ]
    },
    {
      "cell_type": "markdown",
      "metadata": {},
      "source": [
        "### How to check whether dataframe contains NaN or empty value?"
      ]
    },
    {
      "cell_type": "code",
      "execution_count": 14,
      "metadata": {},
      "outputs": [
        {
          "data": {
            "text/plain": [
              "0"
            ]
          },
          "execution_count": 14,
          "metadata": {},
          "output_type": "execute_result"
        }
      ],
      "source": [
        "df.isnull().values.sum()"
      ]
    },
    {
      "cell_type": "code",
      "execution_count": 15,
      "metadata": {},
      "outputs": [
        {
          "data": {
            "text/plain": [
              "False"
            ]
          },
          "execution_count": 15,
          "metadata": {},
          "output_type": "execute_result"
        }
      ],
      "source": [
        "df.isnull().values.any()"
      ]
    },
    {
      "cell_type": "markdown",
      "metadata": {},
      "source": [
        "### How to round all values in a DF?"
      ]
    },
    {
      "cell_type": "code",
      "execution_count": 21,
      "metadata": {},
      "outputs": [
        {
          "data": {
            "text/html": [
              "<div>\n",
              "<style scoped>\n",
              "    .dataframe tbody tr th:only-of-type {\n",
              "        vertical-align: middle;\n",
              "    }\n",
              "\n",
              "    .dataframe tbody tr th {\n",
              "        vertical-align: top;\n",
              "    }\n",
              "\n",
              "    .dataframe thead th {\n",
              "        text-align: right;\n",
              "    }\n",
              "</style>\n",
              "<table border=\"1\" class=\"dataframe\">\n",
              "  <thead>\n",
              "    <tr style=\"text-align: right;\">\n",
              "      <th></th>\n",
              "      <th>Open</th>\n",
              "      <th>High</th>\n",
              "      <th>Low</th>\n",
              "      <th>Close</th>\n",
              "      <th>Adj Close</th>\n",
              "      <th>Volume</th>\n",
              "    </tr>\n",
              "    <tr>\n",
              "      <th>Date</th>\n",
              "      <th></th>\n",
              "      <th></th>\n",
              "      <th></th>\n",
              "      <th></th>\n",
              "      <th></th>\n",
              "      <th></th>\n",
              "    </tr>\n",
              "  </thead>\n",
              "  <tbody>\n",
              "    <tr>\n",
              "      <th>2020-12-24</th>\n",
              "      <td>131.32</td>\n",
              "      <td>133.46</td>\n",
              "      <td>131.10</td>\n",
              "      <td>131.97</td>\n",
              "      <td>131.16</td>\n",
              "      <td>54930064</td>\n",
              "    </tr>\n",
              "    <tr>\n",
              "      <th>2020-12-28</th>\n",
              "      <td>133.99</td>\n",
              "      <td>137.34</td>\n",
              "      <td>133.51</td>\n",
              "      <td>136.69</td>\n",
              "      <td>135.85</td>\n",
              "      <td>124486237</td>\n",
              "    </tr>\n",
              "    <tr>\n",
              "      <th>2020-12-29</th>\n",
              "      <td>138.05</td>\n",
              "      <td>138.79</td>\n",
              "      <td>134.34</td>\n",
              "      <td>134.87</td>\n",
              "      <td>134.04</td>\n",
              "      <td>121047324</td>\n",
              "    </tr>\n",
              "    <tr>\n",
              "      <th>2020-12-30</th>\n",
              "      <td>135.58</td>\n",
              "      <td>135.99</td>\n",
              "      <td>133.40</td>\n",
              "      <td>133.72</td>\n",
              "      <td>132.90</td>\n",
              "      <td>96452124</td>\n",
              "    </tr>\n",
              "    <tr>\n",
              "      <th>2020-12-31</th>\n",
              "      <td>134.08</td>\n",
              "      <td>134.74</td>\n",
              "      <td>131.72</td>\n",
              "      <td>132.69</td>\n",
              "      <td>131.88</td>\n",
              "      <td>99116586</td>\n",
              "    </tr>\n",
              "  </tbody>\n",
              "</table>\n",
              "</div>"
            ],
            "text/plain": [
              "              Open    High     Low   Close  Adj Close     Volume\n",
              "Date                                                            \n",
              "2020-12-24  131.32  133.46  131.10  131.97     131.16   54930064\n",
              "2020-12-28  133.99  137.34  133.51  136.69     135.85  124486237\n",
              "2020-12-29  138.05  138.79  134.34  134.87     134.04  121047324\n",
              "2020-12-30  135.58  135.99  133.40  133.72     132.90   96452124\n",
              "2020-12-31  134.08  134.74  131.72  132.69     131.88   99116586"
            ]
          },
          "execution_count": 21,
          "metadata": {},
          "output_type": "execute_result"
        }
      ],
      "source": [
        "df.round(2).tail()"
      ]
    },
    {
      "cell_type": "markdown",
      "metadata": {},
      "source": [
        "### How to rename column names?"
      ]
    },
    {
      "cell_type": "code",
      "execution_count": 118,
      "metadata": {},
      "outputs": [],
      "source": [
        "df.rename(columns={'Adj Close': 'Adj_Close'}, inplace=True)"
      ]
    },
    {
      "cell_type": "markdown",
      "metadata": {},
      "source": [
        "### How to change the order of columns?"
      ]
    },
    {
      "cell_type": "code",
      "execution_count": 30,
      "metadata": {},
      "outputs": [
        {
          "data": {
            "text/html": [
              "<div>\n",
              "<style scoped>\n",
              "    .dataframe tbody tr th:only-of-type {\n",
              "        vertical-align: middle;\n",
              "    }\n",
              "\n",
              "    .dataframe tbody tr th {\n",
              "        vertical-align: top;\n",
              "    }\n",
              "\n",
              "    .dataframe thead th {\n",
              "        text-align: right;\n",
              "    }\n",
              "</style>\n",
              "<table border=\"1\" class=\"dataframe\">\n",
              "  <thead>\n",
              "    <tr style=\"text-align: right;\">\n",
              "      <th></th>\n",
              "      <th>Open</th>\n",
              "      <th>Close</th>\n",
              "      <th>Low</th>\n",
              "      <th>High</th>\n",
              "      <th>Adj_Close</th>\n",
              "      <th>Volume</th>\n",
              "    </tr>\n",
              "    <tr>\n",
              "      <th>Date</th>\n",
              "      <th></th>\n",
              "      <th></th>\n",
              "      <th></th>\n",
              "      <th></th>\n",
              "      <th></th>\n",
              "      <th></th>\n",
              "    </tr>\n",
              "  </thead>\n",
              "  <tbody>\n",
              "    <tr>\n",
              "      <th>2018-12-31</th>\n",
              "      <td>158.529999</td>\n",
              "      <td>157.740005</td>\n",
              "      <td>156.479996</td>\n",
              "      <td>159.360001</td>\n",
              "      <td>155.129257</td>\n",
              "      <td>35003466</td>\n",
              "    </tr>\n",
              "    <tr>\n",
              "      <th>2019-01-02</th>\n",
              "      <td>154.889999</td>\n",
              "      <td>157.919998</td>\n",
              "      <td>154.229996</td>\n",
              "      <td>158.850006</td>\n",
              "      <td>155.306259</td>\n",
              "      <td>37039737</td>\n",
              "    </tr>\n",
              "    <tr>\n",
              "      <th>2019-01-03</th>\n",
              "      <td>143.979996</td>\n",
              "      <td>142.190002</td>\n",
              "      <td>142.000000</td>\n",
              "      <td>145.720001</td>\n",
              "      <td>139.836609</td>\n",
              "      <td>91312195</td>\n",
              "    </tr>\n",
              "    <tr>\n",
              "      <th>2019-01-04</th>\n",
              "      <td>144.529999</td>\n",
              "      <td>148.259995</td>\n",
              "      <td>143.800003</td>\n",
              "      <td>148.549896</td>\n",
              "      <td>145.806137</td>\n",
              "      <td>58607070</td>\n",
              "    </tr>\n",
              "    <tr>\n",
              "      <th>2019-01-07</th>\n",
              "      <td>148.699997</td>\n",
              "      <td>147.929993</td>\n",
              "      <td>145.899994</td>\n",
              "      <td>148.830002</td>\n",
              "      <td>145.481613</td>\n",
              "      <td>54777764</td>\n",
              "    </tr>\n",
              "    <tr>\n",
              "      <th>...</th>\n",
              "      <td>...</td>\n",
              "      <td>...</td>\n",
              "      <td>...</td>\n",
              "      <td>...</td>\n",
              "      <td>...</td>\n",
              "      <td>...</td>\n",
              "    </tr>\n",
              "    <tr>\n",
              "      <th>2020-12-24</th>\n",
              "      <td>131.320007</td>\n",
              "      <td>131.970001</td>\n",
              "      <td>131.100006</td>\n",
              "      <td>133.460007</td>\n",
              "      <td>131.161407</td>\n",
              "      <td>54930064</td>\n",
              "    </tr>\n",
              "    <tr>\n",
              "      <th>2020-12-28</th>\n",
              "      <td>133.990005</td>\n",
              "      <td>136.690002</td>\n",
              "      <td>133.509995</td>\n",
              "      <td>137.339996</td>\n",
              "      <td>135.852509</td>\n",
              "      <td>124486237</td>\n",
              "    </tr>\n",
              "    <tr>\n",
              "      <th>2020-12-29</th>\n",
              "      <td>138.050003</td>\n",
              "      <td>134.869995</td>\n",
              "      <td>134.340897</td>\n",
              "      <td>138.789001</td>\n",
              "      <td>134.043640</td>\n",
              "      <td>121047324</td>\n",
              "    </tr>\n",
              "    <tr>\n",
              "      <th>2020-12-30</th>\n",
              "      <td>135.580002</td>\n",
              "      <td>133.720001</td>\n",
              "      <td>133.399994</td>\n",
              "      <td>135.990005</td>\n",
              "      <td>132.900696</td>\n",
              "      <td>96452124</td>\n",
              "    </tr>\n",
              "    <tr>\n",
              "      <th>2020-12-31</th>\n",
              "      <td>134.080002</td>\n",
              "      <td>132.690002</td>\n",
              "      <td>131.720001</td>\n",
              "      <td>134.740005</td>\n",
              "      <td>131.876999</td>\n",
              "      <td>99116586</td>\n",
              "    </tr>\n",
              "  </tbody>\n",
              "</table>\n",
              "<p>506 rows × 6 columns</p>\n",
              "</div>"
            ],
            "text/plain": [
              "                  Open       Close         Low        High   Adj_Close  \\\n",
              "Date                                                                     \n",
              "2018-12-31  158.529999  157.740005  156.479996  159.360001  155.129257   \n",
              "2019-01-02  154.889999  157.919998  154.229996  158.850006  155.306259   \n",
              "2019-01-03  143.979996  142.190002  142.000000  145.720001  139.836609   \n",
              "2019-01-04  144.529999  148.259995  143.800003  148.549896  145.806137   \n",
              "2019-01-07  148.699997  147.929993  145.899994  148.830002  145.481613   \n",
              "...                ...         ...         ...         ...         ...   \n",
              "2020-12-24  131.320007  131.970001  131.100006  133.460007  131.161407   \n",
              "2020-12-28  133.990005  136.690002  133.509995  137.339996  135.852509   \n",
              "2020-12-29  138.050003  134.869995  134.340897  138.789001  134.043640   \n",
              "2020-12-30  135.580002  133.720001  133.399994  135.990005  132.900696   \n",
              "2020-12-31  134.080002  132.690002  131.720001  134.740005  131.876999   \n",
              "\n",
              "               Volume  \n",
              "Date                   \n",
              "2018-12-31   35003466  \n",
              "2019-01-02   37039737  \n",
              "2019-01-03   91312195  \n",
              "2019-01-04   58607070  \n",
              "2019-01-07   54777764  \n",
              "...               ...  \n",
              "2020-12-24   54930064  \n",
              "2020-12-28  124486237  \n",
              "2020-12-29  121047324  \n",
              "2020-12-30   96452124  \n",
              "2020-12-31   99116586  \n",
              "\n",
              "[506 rows x 6 columns]"
            ]
          },
          "execution_count": 30,
          "metadata": {},
          "output_type": "execute_result"
        }
      ],
      "source": [
        "df.reindex(columns=['Open', 'Close', 'Low', 'High', 'Adj_Close', 'Volume'])"
      ]
    },
    {
      "cell_type": "markdown",
      "metadata": {},
      "source": [
        "### How to add a new column?"
      ]
    },
    {
      "cell_type": "code",
      "execution_count": 40,
      "metadata": {},
      "outputs": [
        {
          "data": {
            "text/html": [
              "<div>\n",
              "<style scoped>\n",
              "    .dataframe tbody tr th:only-of-type {\n",
              "        vertical-align: middle;\n",
              "    }\n",
              "\n",
              "    .dataframe tbody tr th {\n",
              "        vertical-align: top;\n",
              "    }\n",
              "\n",
              "    .dataframe thead th {\n",
              "        text-align: right;\n",
              "    }\n",
              "</style>\n",
              "<table border=\"1\" class=\"dataframe\">\n",
              "  <thead>\n",
              "    <tr style=\"text-align: right;\">\n",
              "      <th></th>\n",
              "      <th>Open</th>\n",
              "      <th>High</th>\n",
              "      <th>Low</th>\n",
              "      <th>Close</th>\n",
              "      <th>Adj_Close</th>\n",
              "      <th>Volume</th>\n",
              "      <th>New_Column</th>\n",
              "    </tr>\n",
              "    <tr>\n",
              "      <th>Date</th>\n",
              "      <th></th>\n",
              "      <th></th>\n",
              "      <th></th>\n",
              "      <th></th>\n",
              "      <th></th>\n",
              "      <th></th>\n",
              "      <th></th>\n",
              "    </tr>\n",
              "  </thead>\n",
              "  <tbody>\n",
              "    <tr>\n",
              "      <th>2020-12-24</th>\n",
              "      <td>131.320007</td>\n",
              "      <td>133.460007</td>\n",
              "      <td>131.100006</td>\n",
              "      <td>131.970001</td>\n",
              "      <td>131.161407</td>\n",
              "      <td>54930064</td>\n",
              "      <td>2.360001</td>\n",
              "    </tr>\n",
              "    <tr>\n",
              "      <th>2020-12-28</th>\n",
              "      <td>133.990005</td>\n",
              "      <td>137.339996</td>\n",
              "      <td>133.509995</td>\n",
              "      <td>136.690002</td>\n",
              "      <td>135.852509</td>\n",
              "      <td>124486237</td>\n",
              "      <td>3.830002</td>\n",
              "    </tr>\n",
              "    <tr>\n",
              "      <th>2020-12-29</th>\n",
              "      <td>138.050003</td>\n",
              "      <td>138.789001</td>\n",
              "      <td>134.340897</td>\n",
              "      <td>134.869995</td>\n",
              "      <td>134.043640</td>\n",
              "      <td>121047324</td>\n",
              "      <td>4.448105</td>\n",
              "    </tr>\n",
              "    <tr>\n",
              "      <th>2020-12-30</th>\n",
              "      <td>135.580002</td>\n",
              "      <td>135.990005</td>\n",
              "      <td>133.399994</td>\n",
              "      <td>133.720001</td>\n",
              "      <td>132.900696</td>\n",
              "      <td>96452124</td>\n",
              "      <td>2.590012</td>\n",
              "    </tr>\n",
              "    <tr>\n",
              "      <th>2020-12-31</th>\n",
              "      <td>134.080002</td>\n",
              "      <td>134.740005</td>\n",
              "      <td>131.720001</td>\n",
              "      <td>132.690002</td>\n",
              "      <td>131.876999</td>\n",
              "      <td>99116586</td>\n",
              "      <td>3.020004</td>\n",
              "    </tr>\n",
              "  </tbody>\n",
              "</table>\n",
              "</div>"
            ],
            "text/plain": [
              "                  Open        High         Low       Close   Adj_Close  \\\n",
              "Date                                                                     \n",
              "2020-12-24  131.320007  133.460007  131.100006  131.970001  131.161407   \n",
              "2020-12-28  133.990005  137.339996  133.509995  136.690002  135.852509   \n",
              "2020-12-29  138.050003  138.789001  134.340897  134.869995  134.043640   \n",
              "2020-12-30  135.580002  135.990005  133.399994  133.720001  132.900696   \n",
              "2020-12-31  134.080002  134.740005  131.720001  132.690002  131.876999   \n",
              "\n",
              "               Volume  New_Column  \n",
              "Date                               \n",
              "2020-12-24   54930064    2.360001  \n",
              "2020-12-28  124486237    3.830002  \n",
              "2020-12-29  121047324    4.448105  \n",
              "2020-12-30   96452124    2.590012  \n",
              "2020-12-31   99116586    3.020004  "
            ]
          },
          "execution_count": 40,
          "metadata": {},
          "output_type": "execute_result"
        }
      ],
      "source": [
        "df['New_Column'] = df['High'] - df['Low']\n",
        "df.tail()"
      ]
    },
    {
      "cell_type": "code",
      "execution_count": 36,
      "metadata": {},
      "outputs": [
        {
          "data": {
            "text/html": [
              "<div>\n",
              "<style scoped>\n",
              "    .dataframe tbody tr th:only-of-type {\n",
              "        vertical-align: middle;\n",
              "    }\n",
              "\n",
              "    .dataframe tbody tr th {\n",
              "        vertical-align: top;\n",
              "    }\n",
              "\n",
              "    .dataframe thead th {\n",
              "        text-align: right;\n",
              "    }\n",
              "</style>\n",
              "<table border=\"1\" class=\"dataframe\">\n",
              "  <thead>\n",
              "    <tr style=\"text-align: right;\">\n",
              "      <th></th>\n",
              "      <th>Open</th>\n",
              "      <th>High</th>\n",
              "      <th>Low</th>\n",
              "      <th>New_Column</th>\n",
              "      <th>Close</th>\n",
              "      <th>Adj_Close</th>\n",
              "      <th>Volume</th>\n",
              "    </tr>\n",
              "    <tr>\n",
              "      <th>Date</th>\n",
              "      <th></th>\n",
              "      <th></th>\n",
              "      <th></th>\n",
              "      <th></th>\n",
              "      <th></th>\n",
              "      <th></th>\n",
              "      <th></th>\n",
              "    </tr>\n",
              "  </thead>\n",
              "  <tbody>\n",
              "    <tr>\n",
              "      <th>2020-12-24</th>\n",
              "      <td>131.320007</td>\n",
              "      <td>133.460007</td>\n",
              "      <td>131.100006</td>\n",
              "      <td>2.360001</td>\n",
              "      <td>131.970001</td>\n",
              "      <td>131.161407</td>\n",
              "      <td>54930064</td>\n",
              "    </tr>\n",
              "    <tr>\n",
              "      <th>2020-12-28</th>\n",
              "      <td>133.990005</td>\n",
              "      <td>137.339996</td>\n",
              "      <td>133.509995</td>\n",
              "      <td>3.830002</td>\n",
              "      <td>136.690002</td>\n",
              "      <td>135.852509</td>\n",
              "      <td>124486237</td>\n",
              "    </tr>\n",
              "    <tr>\n",
              "      <th>2020-12-29</th>\n",
              "      <td>138.050003</td>\n",
              "      <td>138.789001</td>\n",
              "      <td>134.340897</td>\n",
              "      <td>4.448105</td>\n",
              "      <td>134.869995</td>\n",
              "      <td>134.043640</td>\n",
              "      <td>121047324</td>\n",
              "    </tr>\n",
              "    <tr>\n",
              "      <th>2020-12-30</th>\n",
              "      <td>135.580002</td>\n",
              "      <td>135.990005</td>\n",
              "      <td>133.399994</td>\n",
              "      <td>2.590012</td>\n",
              "      <td>133.720001</td>\n",
              "      <td>132.900696</td>\n",
              "      <td>96452124</td>\n",
              "    </tr>\n",
              "    <tr>\n",
              "      <th>2020-12-31</th>\n",
              "      <td>134.080002</td>\n",
              "      <td>134.740005</td>\n",
              "      <td>131.720001</td>\n",
              "      <td>3.020004</td>\n",
              "      <td>132.690002</td>\n",
              "      <td>131.876999</td>\n",
              "      <td>99116586</td>\n",
              "    </tr>\n",
              "  </tbody>\n",
              "</table>\n",
              "</div>"
            ],
            "text/plain": [
              "                  Open        High         Low  New_Column       Close  \\\n",
              "Date                                                                     \n",
              "2020-12-24  131.320007  133.460007  131.100006    2.360001  131.970001   \n",
              "2020-12-28  133.990005  137.339996  133.509995    3.830002  136.690002   \n",
              "2020-12-29  138.050003  138.789001  134.340897    4.448105  134.869995   \n",
              "2020-12-30  135.580002  135.990005  133.399994    2.590012  133.720001   \n",
              "2020-12-31  134.080002  134.740005  131.720001    3.020004  132.690002   \n",
              "\n",
              "             Adj_Close     Volume  \n",
              "Date                               \n",
              "2020-12-24  131.161407   54930064  \n",
              "2020-12-28  135.852509  124486237  \n",
              "2020-12-29  134.043640  121047324  \n",
              "2020-12-30  132.900696   96452124  \n",
              "2020-12-31  131.876999   99116586  "
            ]
          },
          "execution_count": 36,
          "metadata": {},
          "output_type": "execute_result"
        }
      ],
      "source": [
        "new_column = df['High'] - df['Low']\n",
        "df.insert(3, 'New_Column', new_column)\n",
        "df.tail()"
      ]
    },
    {
      "cell_type": "markdown",
      "metadata": {},
      "source": [
        "## 5. Reading and writing files"
      ]
    },
    {
      "cell_type": "markdown",
      "metadata": {},
      "source": [
        "### How to add a new row to an existing dataframe?"
      ]
    },
    {
      "cell_type": "code",
      "execution_count": 84,
      "metadata": {},
      "outputs": [
        {
          "data": {
            "text/html": [
              "<div>\n",
              "<style scoped>\n",
              "    .dataframe tbody tr th:only-of-type {\n",
              "        vertical-align: middle;\n",
              "    }\n",
              "\n",
              "    .dataframe tbody tr th {\n",
              "        vertical-align: top;\n",
              "    }\n",
              "\n",
              "    .dataframe thead th {\n",
              "        text-align: right;\n",
              "    }\n",
              "</style>\n",
              "<table border=\"1\" class=\"dataframe\">\n",
              "  <thead>\n",
              "    <tr style=\"text-align: right;\">\n",
              "      <th></th>\n",
              "      <th>Open</th>\n",
              "      <th>High</th>\n",
              "      <th>Low</th>\n",
              "      <th>Close</th>\n",
              "      <th>Adj Close</th>\n",
              "      <th>Volume</th>\n",
              "    </tr>\n",
              "    <tr>\n",
              "      <th>Date</th>\n",
              "      <th></th>\n",
              "      <th></th>\n",
              "      <th></th>\n",
              "      <th></th>\n",
              "      <th></th>\n",
              "      <th></th>\n",
              "    </tr>\n",
              "  </thead>\n",
              "  <tbody>\n",
              "    <tr>\n",
              "      <th>2020-12-28</th>\n",
              "      <td>133.990005</td>\n",
              "      <td>137.339996</td>\n",
              "      <td>133.509995</td>\n",
              "      <td>136.690002</td>\n",
              "      <td>135.852509</td>\n",
              "      <td>124486200</td>\n",
              "    </tr>\n",
              "    <tr>\n",
              "      <th>2020-12-29</th>\n",
              "      <td>138.050003</td>\n",
              "      <td>138.789993</td>\n",
              "      <td>134.339996</td>\n",
              "      <td>134.869995</td>\n",
              "      <td>134.043640</td>\n",
              "      <td>121047300</td>\n",
              "    </tr>\n",
              "    <tr>\n",
              "      <th>2020-12-30</th>\n",
              "      <td>135.580002</td>\n",
              "      <td>135.990005</td>\n",
              "      <td>133.399994</td>\n",
              "      <td>133.720001</td>\n",
              "      <td>132.900696</td>\n",
              "      <td>96452100</td>\n",
              "    </tr>\n",
              "    <tr>\n",
              "      <th>2020-12-31</th>\n",
              "      <td>134.080002</td>\n",
              "      <td>134.740005</td>\n",
              "      <td>131.720001</td>\n",
              "      <td>132.690002</td>\n",
              "      <td>131.877014</td>\n",
              "      <td>99116600</td>\n",
              "    </tr>\n",
              "    <tr>\n",
              "      <th>2021-01-02</th>\n",
              "      <td>135.000000</td>\n",
              "      <td>136.000000</td>\n",
              "      <td>134.000000</td>\n",
              "      <td>135.000000</td>\n",
              "      <td>133.000000</td>\n",
              "      <td>1000000</td>\n",
              "    </tr>\n",
              "  </tbody>\n",
              "</table>\n",
              "</div>"
            ],
            "text/plain": [
              "                  Open        High         Low       Close   Adj Close  \\\n",
              "Date                                                                     \n",
              "2020-12-28  133.990005  137.339996  133.509995  136.690002  135.852509   \n",
              "2020-12-29  138.050003  138.789993  134.339996  134.869995  134.043640   \n",
              "2020-12-30  135.580002  135.990005  133.399994  133.720001  132.900696   \n",
              "2020-12-31  134.080002  134.740005  131.720001  132.690002  131.877014   \n",
              "2021-01-02  135.000000  136.000000  134.000000  135.000000  133.000000   \n",
              "\n",
              "               Volume  \n",
              "Date                   \n",
              "2020-12-28  124486200  \n",
              "2020-12-29  121047300  \n",
              "2020-12-30   96452100  \n",
              "2020-12-31   99116600  \n",
              "2021-01-02    1000000  "
            ]
          },
          "execution_count": 84,
          "metadata": {},
          "output_type": "execute_result"
        }
      ],
      "source": [
        "new_row = [135, 136, 134, 135, 133, 1000000]\n",
        "new_index = pd.DatetimeIndex(data=['2021-01-02'])[0]\n",
        "df.loc[new_index] = new_row\n",
        "df.tail()"
      ]
    },
    {
      "cell_type": "code",
      "execution_count": 142,
      "metadata": {},
      "outputs": [
        {
          "data": {
            "text/html": [
              "<div>\n",
              "<style scoped>\n",
              "    .dataframe tbody tr th:only-of-type {\n",
              "        vertical-align: middle;\n",
              "    }\n",
              "\n",
              "    .dataframe tbody tr th {\n",
              "        vertical-align: top;\n",
              "    }\n",
              "\n",
              "    .dataframe thead th {\n",
              "        text-align: right;\n",
              "    }\n",
              "</style>\n",
              "<table border=\"1\" class=\"dataframe\">\n",
              "  <thead>\n",
              "    <tr style=\"text-align: right;\">\n",
              "      <th></th>\n",
              "      <th>Open</th>\n",
              "      <th>High</th>\n",
              "      <th>Low</th>\n",
              "      <th>Close</th>\n",
              "      <th>Adj_Close</th>\n",
              "      <th>Volume</th>\n",
              "    </tr>\n",
              "  </thead>\n",
              "  <tbody>\n",
              "    <tr>\n",
              "      <th>2020-12-28</th>\n",
              "      <td>133.990005</td>\n",
              "      <td>137.339996</td>\n",
              "      <td>133.509995</td>\n",
              "      <td>136.690002</td>\n",
              "      <td>135.852509</td>\n",
              "      <td>124486200</td>\n",
              "    </tr>\n",
              "    <tr>\n",
              "      <th>2020-12-29</th>\n",
              "      <td>138.050003</td>\n",
              "      <td>138.789993</td>\n",
              "      <td>134.339996</td>\n",
              "      <td>134.869995</td>\n",
              "      <td>134.043640</td>\n",
              "      <td>121047300</td>\n",
              "    </tr>\n",
              "    <tr>\n",
              "      <th>2020-12-30</th>\n",
              "      <td>135.580002</td>\n",
              "      <td>135.990005</td>\n",
              "      <td>133.399994</td>\n",
              "      <td>133.720001</td>\n",
              "      <td>132.900711</td>\n",
              "      <td>96452100</td>\n",
              "    </tr>\n",
              "    <tr>\n",
              "      <th>2020-12-31</th>\n",
              "      <td>134.080002</td>\n",
              "      <td>134.740005</td>\n",
              "      <td>131.720001</td>\n",
              "      <td>132.690002</td>\n",
              "      <td>131.877014</td>\n",
              "      <td>99116600</td>\n",
              "    </tr>\n",
              "    <tr>\n",
              "      <th>2021-01-02</th>\n",
              "      <td>135.000000</td>\n",
              "      <td>136.000000</td>\n",
              "      <td>136.000000</td>\n",
              "      <td>136.000000</td>\n",
              "      <td>133.000000</td>\n",
              "      <td>1000000</td>\n",
              "    </tr>\n",
              "  </tbody>\n",
              "</table>\n",
              "</div>"
            ],
            "text/plain": [
              "                  Open        High         Low       Close   Adj_Close  \\\n",
              "2020-12-28  133.990005  137.339996  133.509995  136.690002  135.852509   \n",
              "2020-12-29  138.050003  138.789993  134.339996  134.869995  134.043640   \n",
              "2020-12-30  135.580002  135.990005  133.399994  133.720001  132.900711   \n",
              "2020-12-31  134.080002  134.740005  131.720001  132.690002  131.877014   \n",
              "2021-01-02  135.000000  136.000000  136.000000  136.000000  133.000000   \n",
              "\n",
              "               Volume  \n",
              "2020-12-28  124486200  \n",
              "2020-12-29  121047300  \n",
              "2020-12-30   96452100  \n",
              "2020-12-31   99116600  \n",
              "2021-01-02    1000000  "
            ]
          },
          "execution_count": 142,
          "metadata": {},
          "output_type": "execute_result"
        }
      ],
      "source": [
        "new_index = pd.DatetimeIndex(data=['2021-01-02'])\n",
        "new_row = pd.DataFrame(data=[{\n",
        "  'Open': 135,\n",
        "  'High': 136,\n",
        "  'Low': 136,\n",
        "  'Close': 136,\n",
        "  'Adj_Close': 133,\n",
        "  'Volume': 1000000}], index=new_index)\n",
        "df = df.append(new_row)\n",
        "df.tail()"
      ]
    },
    {
      "cell_type": "markdown",
      "metadata": {},
      "source": [
        "### How to read and write to csv/excel file?"
      ]
    },
    {
      "cell_type": "code",
      "execution_count": 194,
      "metadata": {},
      "outputs": [
        {
          "data": {
            "text/html": [
              "<div>\n",
              "<style scoped>\n",
              "    .dataframe tbody tr th:only-of-type {\n",
              "        vertical-align: middle;\n",
              "    }\n",
              "\n",
              "    .dataframe tbody tr th {\n",
              "        vertical-align: top;\n",
              "    }\n",
              "\n",
              "    .dataframe thead th {\n",
              "        text-align: right;\n",
              "    }\n",
              "</style>\n",
              "<table border=\"1\" class=\"dataframe\">\n",
              "  <thead>\n",
              "    <tr style=\"text-align: right;\">\n",
              "      <th></th>\n",
              "      <th>Symbol</th>\n",
              "      <th>Company Name</th>\n",
              "    </tr>\n",
              "  </thead>\n",
              "  <tbody>\n",
              "    <tr>\n",
              "      <th>0</th>\n",
              "      <td>MMM</td>\n",
              "      <td>3M Company</td>\n",
              "    </tr>\n",
              "    <tr>\n",
              "      <th>1</th>\n",
              "      <td>ABT</td>\n",
              "      <td>Abbott Laboratories</td>\n",
              "    </tr>\n",
              "    <tr>\n",
              "      <th>2</th>\n",
              "      <td>ABBV</td>\n",
              "      <td>AbbVie Inc.</td>\n",
              "    </tr>\n",
              "    <tr>\n",
              "      <th>3</th>\n",
              "      <td>ABMD</td>\n",
              "      <td>ABIOMED Inc</td>\n",
              "    </tr>\n",
              "    <tr>\n",
              "      <th>4</th>\n",
              "      <td>ACN</td>\n",
              "      <td>Accenture plc</td>\n",
              "    </tr>\n",
              "    <tr>\n",
              "      <th>...</th>\n",
              "      <td>...</td>\n",
              "      <td>...</td>\n",
              "    </tr>\n",
              "    <tr>\n",
              "      <th>500</th>\n",
              "      <td>YUM</td>\n",
              "      <td>Yum! Brands Inc</td>\n",
              "    </tr>\n",
              "    <tr>\n",
              "      <th>501</th>\n",
              "      <td>ZBRA</td>\n",
              "      <td>Zebra Technologies</td>\n",
              "    </tr>\n",
              "    <tr>\n",
              "      <th>502</th>\n",
              "      <td>ZBH</td>\n",
              "      <td>Zimmer Biomet Holdings</td>\n",
              "    </tr>\n",
              "    <tr>\n",
              "      <th>503</th>\n",
              "      <td>ZION</td>\n",
              "      <td>Zions Bancorp</td>\n",
              "    </tr>\n",
              "    <tr>\n",
              "      <th>504</th>\n",
              "      <td>ZTS</td>\n",
              "      <td>Zoetis</td>\n",
              "    </tr>\n",
              "  </tbody>\n",
              "</table>\n",
              "<p>505 rows × 2 columns</p>\n",
              "</div>"
            ],
            "text/plain": [
              "    Symbol            Company Name\n",
              "0      MMM              3M Company\n",
              "1      ABT     Abbott Laboratories\n",
              "2     ABBV             AbbVie Inc.\n",
              "3     ABMD             ABIOMED Inc\n",
              "4      ACN           Accenture plc\n",
              "..     ...                     ...\n",
              "500    YUM         Yum! Brands Inc\n",
              "501   ZBRA      Zebra Technologies\n",
              "502    ZBH  Zimmer Biomet Holdings\n",
              "503   ZION           Zions Bancorp\n",
              "504    ZTS                  Zoetis\n",
              "\n",
              "[505 rows x 2 columns]"
            ]
          },
          "execution_count": 194,
          "metadata": {},
          "output_type": "execute_result"
        }
      ],
      "source": [
        "symbol_df = pd.read_csv('./dataset/symbols.csv')\n",
        "symbol_df"
      ]
    },
    {
      "cell_type": "code",
      "execution_count": 196,
      "metadata": {},
      "outputs": [],
      "source": [
        "df.to_csv('price_data.csv')"
      ]
    },
    {
      "cell_type": "markdown",
      "metadata": {},
      "source": [
        "## 6. Plotting"
      ]
    },
    {
      "cell_type": "markdown",
      "metadata": {},
      "source": [
        "### How to create plots in panda?"
      ]
    },
    {
      "cell_type": "code",
      "execution_count": 202,
      "metadata": {},
      "outputs": [
        {
          "data": {
            "text/plain": [
              "<AxesSubplot:xlabel='Date'>"
            ]
          },
          "execution_count": 202,
          "metadata": {},
          "output_type": "execute_result"
        },
        {
          "data": {
            "image/png": "[encoded data removed]",
            "text/plain": [
              "<Figure size 432x288 with 1 Axes>"
            ]
          },
          "metadata": {
            "needs_background": "light"
          },
          "output_type": "display_data"
        }
      ],
      "source": [
        "df['Close'].plot()"
      ]
    },
    {
      "cell_type": "markdown",
      "metadata": {},
      "source": [
        "### How to configure figure size?"
      ]
    },
    {
      "cell_type": "code",
      "execution_count": 2,
      "metadata": {},
      "outputs": [
        {
          "data": {
            "text/plain": [
              "<AxesSubplot:xlabel='Date'>"
            ]
          },
          "execution_count": 2,
          "metadata": {},
          "output_type": "execute_result"
        },
        {
          "data": {
            "image/png": "[encoded data removed]",
            "text/plain": [
              "<Figure size 1152x648 with 1 Axes>"
            ]
          },
          "metadata": {
            "needs_background": "light"
          },
          "output_type": "display_data"
        }
      ],
      "source": [
        "df['Close'].plot(figsize=(16,9))"
      ]
    },
    {
      "cell_type": "code",
      "execution_count": 9,
      "metadata": {},
      "outputs": [
        {
          "data": {
            "image/png": "[encoded data removed]",
            "text/plain": [
              "<Figure size 1600x900 with 1 Axes>"
            ]
          },
          "metadata": {
            "needs_background": "light"
          },
          "output_type": "display_data"
        }
      ],
      "source": [
        "ax = df['Close'].plot(figsize=(16,9))\n",
        "ax.figure.savefig('test.png')"
      ]
    },
    {
      "cell_type": "markdown",
      "metadata": {},
      "source": [
        "### How to change the plot resolution?"
      ]
    },
    {
      "cell_type": "code",
      "execution_count": 8,
      "metadata": {},
      "outputs": [
        {
          "data": {
            "image/png": "[encoded data removed]",
            "text/plain": [
              "<Figure size 600x400 with 1 Axes>"
            ]
          },
          "metadata": {
            "needs_background": "light"
          },
          "output_type": "display_data"
        }
      ],
      "source": [
        "import matplotlib.pyplot as plt\n",
        "plt.rcParams[\"figure.dpi\"] = 800\n",
        "ax = df['Close'].plot(figsize=(16,9))\n",
        "ax.figure.savefig('test_higher_resolution.png')"
      ]
    },
    {
      "cell_type": "markdown",
      "metadata": {},
      "source": [
        "### How to add axis labels and plot title?"
      ]
    },
    {
      "cell_type": "code",
      "execution_count": 43,
      "metadata": {},
      "outputs": [
        {
          "data": {
            "image/png": "[encoded data removed]",
            "text/plain": [
              "<Figure size 600x400 with 1 Axes>"
            ]
          },
          "metadata": {
            "needs_background": "light"
          },
          "output_type": "display_data"
        }
      ],
      "source": [
        "df['Close'].plot(ylabel = 'Price', xlabel='Date')\n",
        "plt.show()"
      ]
    },
    {
      "cell_type": "markdown",
      "metadata": {},
      "source": [
        "### How to change the label and tick font size?"
      ]
    },
    {
      "cell_type": "code",
      "execution_count": 53,
      "metadata": {},
      "outputs": [
        {
          "data": {
            "image/png": "[encoded data removed]",
            "text/plain": [
              "<Figure size 600x400 with 1 Axes>"
            ]
          },
          "metadata": {
            "needs_background": "light"
          },
          "output_type": "display_data"
        }
      ],
      "source": [
        "df['Close'].plot(\n",
        "  ylabel = 'Price',\n",
        "  xlabel='Date',\n",
        "  title='APPL Close Price',\n",
        "  fontsize=18)\n",
        "plt.show()"
      ]
    },
    {
      "cell_type": "code",
      "execution_count": 72,
      "metadata": {},
      "outputs": [
        {
          "data": {
            "image/png": "[encoded data removed]",
            "text/plain": [
              "<Figure size 600x400 with 1 Axes>"
            ]
          },
          "metadata": {
            "needs_background": "light"
          },
          "output_type": "display_data"
        }
      ],
      "source": [
        "plt.rcParams[\"font.size\"] = 14\n",
        "df['Close'].plot(\n",
        "  ylabel = 'Price',\n",
        "  xlabel='Date',\n",
        "  title='APPL Close Price')\n",
        "plt.show()"
      ]
    },
    {
      "cell_type": "code",
      "execution_count": 73,
      "metadata": {},
      "outputs": [
        {
          "data": {
            "image/png": "[encoded data removed]",
            "text/plain": [
              "<Figure size 600x400 with 1 Axes>"
            ]
          },
          "metadata": {
            "needs_background": "light"
          },
          "output_type": "display_data"
        }
      ],
      "source": [
        "df['Close'].plot(\n",
        "  ylabel = 'Price',\n",
        "  xlabel='Date',\n",
        "  title='APPL Close Price',\n",
        "  rot=90)\n",
        "plt.show()"
      ]
    }
  ],
  "metadata": {
    "colab": {
      "name": "pandas-df-tutorial-medium.ipynb",
      "provenance": []
    },
    "kernelspec": {
      "display_name": "Python 3",
      "name": "python3"
    },
    "language_info": {
      "codemirror_mode": {
        "name": "ipython",
        "version": 3
      },
      "file_extension": ".py",
      "mimetype": "text/x-python",
      "name": "python",
      "nbconvert_exporter": "python",
      "pygments_lexer": "ipython3",
      "version": "3.9.6"
    }
  },
  "nbformat": 4,
  "nbformat_minor": 0
}
